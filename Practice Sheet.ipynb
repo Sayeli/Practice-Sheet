{
 "cells": [
  {
   "cell_type": "code",
   "execution_count": 1,
   "metadata": {},
   "outputs": [],
   "source": [
    "L = ['A','B',3,4,'C','D']"
   ]
  },
  {
   "cell_type": "code",
   "execution_count": 2,
   "metadata": {},
   "outputs": [
    {
     "data": {
      "text/plain": [
       "['B', 3, 4, 'C']"
      ]
     },
     "execution_count": 2,
     "metadata": {},
     "output_type": "execute_result"
    }
   ],
   "source": [
    "L[1:5]"
   ]
  },
  {
   "cell_type": "code",
   "execution_count": 3,
   "metadata": {},
   "outputs": [
    {
     "data": {
      "text/plain": [
       "['A', 3, 'C']"
      ]
     },
     "execution_count": 3,
     "metadata": {},
     "output_type": "execute_result"
    }
   ],
   "source": [
    "L[0:5:2]"
   ]
  },
  {
   "cell_type": "code",
   "execution_count": 4,
   "metadata": {},
   "outputs": [
    {
     "data": {
      "text/plain": [
       "list"
      ]
     },
     "execution_count": 4,
     "metadata": {},
     "output_type": "execute_result"
    }
   ],
   "source": [
    "type(L)"
   ]
  },
  {
   "cell_type": "code",
   "execution_count": 5,
   "metadata": {},
   "outputs": [
    {
     "data": {
      "text/plain": [
       "[]"
      ]
     },
     "execution_count": 5,
     "metadata": {},
     "output_type": "execute_result"
    }
   ],
   "source": [
    "L[5:0]"
   ]
  },
  {
   "cell_type": "code",
   "execution_count": 6,
   "metadata": {},
   "outputs": [
    {
     "data": {
      "text/plain": [
       "['D', 'C', 4, 3, 'B']"
      ]
     },
     "execution_count": 6,
     "metadata": {},
     "output_type": "execute_result"
    }
   ],
   "source": [
    "L[5:0:-1]"
   ]
  },
  {
   "cell_type": "code",
   "execution_count": 7,
   "metadata": {},
   "outputs": [
    {
     "data": {
      "text/plain": [
       "['D', 'C', 4, 3, 'B', 'A']"
      ]
     },
     "execution_count": 7,
     "metadata": {},
     "output_type": "execute_result"
    }
   ],
   "source": [
    "L[::-1]"
   ]
  },
  {
   "cell_type": "code",
   "execution_count": 8,
   "metadata": {},
   "outputs": [
    {
     "data": {
      "text/plain": [
       "['D', 4, 'B']"
      ]
     },
     "execution_count": 8,
     "metadata": {},
     "output_type": "execute_result"
    }
   ],
   "source": [
    "L[::-2]"
   ]
  },
  {
   "cell_type": "code",
   "execution_count": 9,
   "metadata": {},
   "outputs": [
    {
     "ename": "IndexError",
     "evalue": "list index out of range",
     "output_type": "error",
     "traceback": [
      "\u001b[1;31m---------------------------------------------------------------------------\u001b[0m",
      "\u001b[1;31mIndexError\u001b[0m                                Traceback (most recent call last)",
      "\u001b[1;32m<ipython-input-9-41e8b37eeffc>\u001b[0m in \u001b[0;36m<module>\u001b[1;34m\u001b[0m\n\u001b[1;32m----> 1\u001b[1;33m \u001b[0mL\u001b[0m\u001b[1;33m[\u001b[0m\u001b[1;36m67\u001b[0m\u001b[1;33m]\u001b[0m\u001b[1;33m\u001b[0m\u001b[1;33m\u001b[0m\u001b[0m\n\u001b[0m",
      "\u001b[1;31mIndexError\u001b[0m: list index out of range"
     ]
    }
   ],
   "source": [
    "L[67]"
   ]
  },
  {
   "cell_type": "code",
   "execution_count": null,
   "metadata": {},
   "outputs": [],
   "source": [
    "L[1:67]"
   ]
  },
  {
   "cell_type": "code",
   "execution_count": null,
   "metadata": {},
   "outputs": [],
   "source": [
    "list(6)"
   ]
  },
  {
   "cell_type": "code",
   "execution_count": null,
   "metadata": {},
   "outputs": [],
   "source": [
    "list([6])"
   ]
  },
  {
   "cell_type": "code",
   "execution_count": null,
   "metadata": {},
   "outputs": [],
   "source": [
    "list(\"sayeli\")"
   ]
  },
  {
   "cell_type": "code",
   "execution_count": null,
   "metadata": {},
   "outputs": [],
   "source": [
    "#list is behave as a itiretor"
   ]
  },
  {
   "cell_type": "code",
   "execution_count": null,
   "metadata": {},
   "outputs": [],
   "source": [
    "list([\"sayeli\"])"
   ]
  },
  {
   "cell_type": "code",
   "execution_count": null,
   "metadata": {},
   "outputs": [],
   "source": [
    "l2 = list(L)\n",
    "l2"
   ]
  },
  {
   "cell_type": "code",
   "execution_count": null,
   "metadata": {},
   "outputs": [],
   "source": [
    "l= []\n",
    "l.append('sayeli')\n",
    "l.append('soumya')\n",
    "l.append(77)\n",
    "l"
   ]
  },
  {
   "cell_type": "code",
   "execution_count": null,
   "metadata": {},
   "outputs": [],
   "source": [
    "l.insert(1,[\"love\",\"life\"])\n",
    "l"
   ]
  },
  {
   "cell_type": "code",
   "execution_count": null,
   "metadata": {},
   "outputs": [],
   "source": [
    "l1 = [1,2,3,4,5]\n",
    "l2 = [\"sayeli\"]"
   ]
  },
  {
   "cell_type": "code",
   "execution_count": null,
   "metadata": {},
   "outputs": [],
   "source": [
    "l1+l2"
   ]
  },
  {
   "cell_type": "code",
   "execution_count": null,
   "metadata": {},
   "outputs": [],
   "source": [
    "l1 +\"S\""
   ]
  },
  {
   "cell_type": "code",
   "execution_count": null,
   "metadata": {},
   "outputs": [],
   "source": [
    "for i in l1:\n",
    "    print(i)"
   ]
  },
  {
   "cell_type": "code",
   "execution_count": null,
   "metadata": {},
   "outputs": [],
   "source": [
    "for i in l1:\n",
    "    print(i+6)"
   ]
  },
  {
   "cell_type": "code",
   "execution_count": null,
   "metadata": {},
   "outputs": [],
   "source": [
    "for i in l1:\n",
    "    print(i , end=',')"
   ]
  },
  {
   "cell_type": "code",
   "execution_count": null,
   "metadata": {},
   "outputs": [],
   "source": [
    "for i in l1:\n",
    "    print(i , end='#')"
   ]
  },
  {
   "cell_type": "code",
   "execution_count": null,
   "metadata": {},
   "outputs": [],
   "source": [
    "for i in \"sayeli\":\n",
    "    print(i, end=',')"
   ]
  },
  {
   "cell_type": "code",
   "execution_count": null,
   "metadata": {},
   "outputs": [],
   "source": [
    "number = [1,2,3,4,5,6]\n",
    "sum = 0\n",
    "for i in number:\n",
    "    sum = sum+i\n",
    "print(\"the sum is\",sum)"
   ]
  },
  {
   "cell_type": "code",
   "execution_count": null,
   "metadata": {},
   "outputs": [],
   "source": [
    "y = [1,2,3,4,[25,26,27]]\n",
    "y"
   ]
  },
  {
   "cell_type": "code",
   "execution_count": null,
   "metadata": {},
   "outputs": [],
   "source": [
    "y[4][0]"
   ]
  },
  {
   "cell_type": "code",
   "execution_count": null,
   "metadata": {},
   "outputs": [],
   "source": [
    "for i in y:\n",
    "    if type(i) == list:\n",
    "        for y in i:\n",
    "            print(y)\n",
    "    else:\n",
    "        print(i)\n",
    "        "
   ]
  },
  {
   "cell_type": "code",
   "execution_count": null,
   "metadata": {},
   "outputs": [],
   "source": [
    "for i in y:\n",
    "    print(i)"
   ]
  },
  {
   "cell_type": "code",
   "execution_count": null,
   "metadata": {},
   "outputs": [],
   "source": [
    "n=10\n",
    "sum=0\n",
    "i=1\n",
    "\n",
    "while i<=n:\n",
    "    sum = sum+i\n",
    "print(\"the sum is\",sum)    "
   ]
  },
  {
   "cell_type": "code",
   "execution_count": null,
   "metadata": {},
   "outputs": [],
   "source": [
    "n=10\n",
    "sum=0\n",
    "i=1\n",
    "\n",
    "while i<=n:\n",
    "    sum = sum+i\n",
    "    i = i+1\n",
    "print(\"the sum is\",sum)"
   ]
  },
  {
   "cell_type": "code",
   "execution_count": null,
   "metadata": {},
   "outputs": [],
   "source": [
    "print(range(10))"
   ]
  },
  {
   "cell_type": "code",
   "execution_count": null,
   "metadata": {},
   "outputs": [],
   "source": [
    "list(range(10))"
   ]
  },
  {
   "cell_type": "code",
   "execution_count": null,
   "metadata": {},
   "outputs": [],
   "source": [
    "[range(10)]"
   ]
  },
  {
   "cell_type": "code",
   "execution_count": null,
   "metadata": {},
   "outputs": [],
   "source": [
    "list(range(4,10))"
   ]
  },
  {
   "cell_type": "code",
   "execution_count": null,
   "metadata": {},
   "outputs": [],
   "source": [
    "list(range(4,10,2))"
   ]
  },
  {
   "cell_type": "code",
   "execution_count": null,
   "metadata": {},
   "outputs": [],
   "source": [
    "list(range(10,4,-2))"
   ]
  },
  {
   "cell_type": "code",
   "execution_count": null,
   "metadata": {},
   "outputs": [],
   "source": [
    "list(range(10.0,20))"
   ]
  },
  {
   "cell_type": "code",
   "execution_count": null,
   "metadata": {},
   "outputs": [],
   "source": [
    "genre = [\"pop\",\"rock\",\"jazz\", \"classical\"]"
   ]
  },
  {
   "cell_type": "code",
   "execution_count": null,
   "metadata": {},
   "outputs": [],
   "source": [
    "for i in genre:\n",
    "    print(\"I Like\",i)"
   ]
  },
  {
   "cell_type": "code",
   "execution_count": null,
   "metadata": {},
   "outputs": [],
   "source": [
    "for i in range(0,len(genre),2):\n",
    "    print(\"I like\",genre[i])"
   ]
  },
  {
   "cell_type": "code",
   "execution_count": null,
   "metadata": {},
   "outputs": [],
   "source": [
    "# for else loop with break(This is unique in python)\n",
    "for val in \"Soumya\":\n",
    "    if val == \"a\":\n",
    "        break\n",
    "    print(val)\n",
    "else:\n",
    "    print(\"print after this for loop\")\n",
    "\n",
    "print(\"the end\")\n",
    "    \n",
    "    "
   ]
  },
  {
   "cell_type": "code",
   "execution_count": null,
   "metadata": {},
   "outputs": [],
   "source": [
    "for val in \"string\":\n",
    "    if val == \"i\":\n",
    "        continue\n",
    "    print(val)\n",
    "    \n",
    "print(\"the end\")"
   ]
  },
  {
   "cell_type": "code",
   "execution_count": null,
   "metadata": {},
   "outputs": [],
   "source": [
    "for val in \"string\":\n",
    "    if val == \"i\":\n",
    "        break\n",
    "    print(val)\n",
    "    \n",
    "print(\"the end\")"
   ]
  },
  {
   "cell_type": "code",
   "execution_count": null,
   "metadata": {},
   "outputs": [],
   "source": [
    "name = input(\"what is your name\")\n",
    "name"
   ]
  },
  {
   "cell_type": "code",
   "execution_count": null,
   "metadata": {},
   "outputs": [],
   "source": [
    "name = input(\"what is your name\")\n",
    "name+1"
   ]
  },
  {
   "cell_type": "code",
   "execution_count": null,
   "metadata": {},
   "outputs": [],
   "source": [
    "name = input(\"what is your name\")\n",
    "int(name)+1"
   ]
  },
  {
   "cell_type": "code",
   "execution_count": null,
   "metadata": {},
   "outputs": [],
   "source": [
    "First_Name= input(\"First name\")\n",
    "Last_Name = input(\"last name\")\n",
    "name = Last_Name +\" \"+ First_Name\n",
    "name"
   ]
  },
  {
   "cell_type": "code",
   "execution_count": null,
   "metadata": {},
   "outputs": [],
   "source": [
    "for i in name:\n",
    "    print(i , end=' ')"
   ]
  },
  {
   "cell_type": "code",
   "execution_count": null,
   "metadata": {},
   "outputs": [],
   "source": [
    "type(name)"
   ]
  },
  {
   "cell_type": "markdown",
   "metadata": {},
   "source": [
    "# String"
   ]
  },
  {
   "cell_type": "code",
   "execution_count": null,
   "metadata": {},
   "outputs": [],
   "source": [
    "'sayeli'"
   ]
  },
  {
   "cell_type": "code",
   "execution_count": null,
   "metadata": {},
   "outputs": [],
   "source": [
    "\"sayeli's\""
   ]
  },
  {
   "cell_type": "code",
   "execution_count": null,
   "metadata": {},
   "outputs": [],
   "source": [
    "\"sayeli\"+65"
   ]
  },
  {
   "cell_type": "code",
   "execution_count": null,
   "metadata": {},
   "outputs": [],
   "source": [
    "'sayeli'+\"65\""
   ]
  },
  {
   "cell_type": "code",
   "execution_count": null,
   "metadata": {},
   "outputs": [],
   "source": [
    "type(print)"
   ]
  },
  {
   "cell_type": "code",
   "execution_count": null,
   "metadata": {},
   "outputs": [],
   "source": [
    "type(print())"
   ]
  },
  {
   "cell_type": "code",
   "execution_count": null,
   "metadata": {},
   "outputs": [],
   "source": [
    "len(\"Sayeli\")"
   ]
  },
  {
   "cell_type": "code",
   "execution_count": null,
   "metadata": {},
   "outputs": [],
   "source": [
    "len(28)"
   ]
  },
  {
   "cell_type": "markdown",
   "metadata": {},
   "source": [
    "# Sting Indexting"
   ]
  },
  {
   "cell_type": "code",
   "execution_count": null,
   "metadata": {},
   "outputs": [],
   "source": [
    "s = \"Hello World\""
   ]
  },
  {
   "cell_type": "code",
   "execution_count": null,
   "metadata": {},
   "outputs": [],
   "source": [
    "s[::-1]"
   ]
  },
  {
   "cell_type": "code",
   "execution_count": null,
   "metadata": {},
   "outputs": [],
   "source": [
    "s[0]= 'a'"
   ]
  },
  {
   "cell_type": "code",
   "execution_count": null,
   "metadata": {},
   "outputs": [],
   "source": [
    "# Sring is a immutable entity"
   ]
  },
  {
   "cell_type": "code",
   "execution_count": null,
   "metadata": {},
   "outputs": [],
   "source": [
    "s.split()"
   ]
  },
  {
   "cell_type": "code",
   "execution_count": null,
   "metadata": {},
   "outputs": [],
   "source": [
    "s.split('o')"
   ]
  },
  {
   "cell_type": "code",
   "execution_count": null,
   "metadata": {},
   "outputs": [],
   "source": [
    "s.upper()"
   ]
  },
  {
   "cell_type": "code",
   "execution_count": null,
   "metadata": {},
   "outputs": [],
   "source": [
    "\"Insert another string with curly bracket:{}\".format(s)"
   ]
  },
  {
   "cell_type": "code",
   "execution_count": null,
   "metadata": {},
   "outputs": [],
   "source": [
    "s.count('o')"
   ]
  },
  {
   "cell_type": "code",
   "execution_count": null,
   "metadata": {},
   "outputs": [],
   "source": [
    "n = 'sayelichakraborty'"
   ]
  },
  {
   "cell_type": "code",
   "execution_count": null,
   "metadata": {},
   "outputs": [],
   "source": [
    "n.find('o')"
   ]
  },
  {
   "cell_type": "code",
   "execution_count": null,
   "metadata": {},
   "outputs": [],
   "source": [
    "n.centre(20,'z')"
   ]
  },
  {
   "cell_type": "code",
   "execution_count": null,
   "metadata": {},
   "outputs": [],
   "source": [
    "\"hello\\thi\".expandtabs()"
   ]
  },
  {
   "cell_type": "code",
   "execution_count": null,
   "metadata": {},
   "outputs": [],
   "source": [
    "s =\"hello234\""
   ]
  },
  {
   "cell_type": "code",
   "execution_count": null,
   "metadata": {},
   "outputs": [],
   "source": [
    "s.isalpha()"
   ]
  },
  {
   "cell_type": "code",
   "execution_count": 10,
   "metadata": {},
   "outputs": [
    {
     "ename": "NameError",
     "evalue": "name 's' is not defined",
     "output_type": "error",
     "traceback": [
      "\u001b[1;31m---------------------------------------------------------------------------\u001b[0m",
      "\u001b[1;31mNameError\u001b[0m                                 Traceback (most recent call last)",
      "\u001b[1;32m<ipython-input-10-b7764f26ea16>\u001b[0m in \u001b[0;36m<module>\u001b[1;34m\u001b[0m\n\u001b[1;32m----> 1\u001b[1;33m \u001b[0ms\u001b[0m\u001b[1;33m.\u001b[0m\u001b[0misalnum\u001b[0m\u001b[1;33m(\u001b[0m\u001b[1;33m)\u001b[0m\u001b[1;33m\u001b[0m\u001b[1;33m\u001b[0m\u001b[0m\n\u001b[0m",
      "\u001b[1;31mNameError\u001b[0m: name 's' is not defined"
     ]
    }
   ],
   "source": [
    "s.isalnum()"
   ]
  },
  {
   "cell_type": "code",
   "execution_count": null,
   "metadata": {},
   "outputs": [],
   "source": [
    "a = \"Sayeli\""
   ]
  },
  {
   "cell_type": "code",
   "execution_count": null,
   "metadata": {},
   "outputs": [],
   "source": [
    "a.istitle()"
   ]
  },
  {
   "cell_type": "code",
   "execution_count": null,
   "metadata": {},
   "outputs": [],
   "source": [
    "a.split('e') # returns a list"
   ]
  },
  {
   "cell_type": "code",
   "execution_count": null,
   "metadata": {},
   "outputs": [],
   "source": [
    "a.partition('e')# returns a tuple"
   ]
  },
  {
   "cell_type": "code",
   "execution_count": null,
   "metadata": {},
   "outputs": [],
   "source": [
    "my_lists = ['sayeli',4,5]\n",
    "my_lists"
   ]
  },
  {
   "cell_type": "code",
   "execution_count": null,
   "metadata": {},
   "outputs": [],
   "source": [
    "my_lists *2"
   ]
  },
  {
   "cell_type": "code",
   "execution_count": null,
   "metadata": {},
   "outputs": [],
   "source": [
    "my_lists.append('soumya')"
   ]
  },
  {
   "cell_type": "code",
   "execution_count": null,
   "metadata": {},
   "outputs": [],
   "source": [
    "my_lists"
   ]
  },
  {
   "cell_type": "code",
   "execution_count": null,
   "metadata": {},
   "outputs": [],
   "source": [
    "my_lists.pop()# remove a data trom the tail"
   ]
  },
  {
   "cell_type": "code",
   "execution_count": null,
   "metadata": {},
   "outputs": [],
   "source": [
    "my_lists"
   ]
  },
  {
   "cell_type": "code",
   "execution_count": null,
   "metadata": {},
   "outputs": [],
   "source": [
    "my_lists.pop(1)\n",
    "my_lists"
   ]
  },
  {
   "cell_type": "code",
   "execution_count": null,
   "metadata": {},
   "outputs": [],
   "source": [
    "my_lists[::-1]  #change is not permanent"
   ]
  },
  {
   "cell_type": "code",
   "execution_count": null,
   "metadata": {},
   "outputs": [],
   "source": [
    "my_lists.reverse() # change is permanent"
   ]
  },
  {
   "cell_type": "code",
   "execution_count": null,
   "metadata": {},
   "outputs": [],
   "source": [
    "my_lists"
   ]
  },
  {
   "cell_type": "markdown",
   "metadata": {},
   "source": [
    "# Nested list"
   ]
  },
  {
   "cell_type": "code",
   "execution_count": null,
   "metadata": {},
   "outputs": [],
   "source": [
    "lst_1 = [1,2,3]\n",
    "lst_2 = [4,5,6]\n",
    "lst_3 = [99,100,101]\n",
    "\n",
    "matrix = [lst_1,lst_2,lst_3]\n",
    "matrix"
   ]
  },
  {
   "cell_type": "code",
   "execution_count": null,
   "metadata": {},
   "outputs": [],
   "source": [
    "matrix[2][1]"
   ]
  },
  {
   "cell_type": "code",
   "execution_count": null,
   "metadata": {},
   "outputs": [],
   "source": [
    "l = []\n",
    "for i in matrix:\n",
    "    l.append(i[0])"
   ]
  },
  {
   "cell_type": "code",
   "execution_count": 11,
   "metadata": {},
   "outputs": [
    {
     "ename": "NameError",
     "evalue": "name 'l' is not defined",
     "output_type": "error",
     "traceback": [
      "\u001b[1;31m---------------------------------------------------------------------------\u001b[0m",
      "\u001b[1;31mNameError\u001b[0m                                 Traceback (most recent call last)",
      "\u001b[1;32m<ipython-input-11-cde25b5e10ad>\u001b[0m in \u001b[0;36m<module>\u001b[1;34m\u001b[0m\n\u001b[1;32m----> 1\u001b[1;33m \u001b[0ml\u001b[0m\u001b[1;33m\u001b[0m\u001b[1;33m\u001b[0m\u001b[0m\n\u001b[0m",
      "\u001b[1;31mNameError\u001b[0m: name 'l' is not defined"
     ]
    }
   ],
   "source": [
    "l"
   ]
  },
  {
   "cell_type": "code",
   "execution_count": null,
   "metadata": {},
   "outputs": [],
   "source": [
    "#Build a list comprehension by decontructing a for loop within a []\n",
    "first_col = [row[0] for row in matrix]\n",
    "first_col"
   ]
  },
  {
   "cell_type": "code",
   "execution_count": null,
   "metadata": {},
   "outputs": [],
   "source": [
    "first_col = [row[0]/5 for row in matrix]\n",
    "first_col"
   ]
  },
  {
   "cell_type": "code",
   "execution_count": null,
   "metadata": {},
   "outputs": [],
   "source": [
    "x = [1,2,3]\n",
    "x.append([4,5])\n",
    "x"
   ]
  },
  {
   "cell_type": "code",
   "execution_count": null,
   "metadata": {},
   "outputs": [],
   "source": [
    "x = [1,2,3]\n",
    "x.extend([4,5])\n",
    "x"
   ]
  },
  {
   "cell_type": "code",
   "execution_count": null,
   "metadata": {},
   "outputs": [],
   "source": [
    "first_col.index(0.8)"
   ]
  },
  {
   "cell_type": "code",
   "execution_count": null,
   "metadata": {},
   "outputs": [],
   "source": [
    "first_col.find(0.8)"
   ]
  },
  {
   "cell_type": "code",
   "execution_count": null,
   "metadata": {},
   "outputs": [],
   "source": [
    "x.insert(2,'fuck')\n",
    "x"
   ]
  },
  {
   "cell_type": "code",
   "execution_count": null,
   "metadata": {},
   "outputs": [],
   "source": [
    "x.remove('fuck')\n",
    "x"
   ]
  },
  {
   "cell_type": "code",
   "execution_count": null,
   "metadata": {},
   "outputs": [],
   "source": [
    "x.reverse()"
   ]
  },
  {
   "cell_type": "code",
   "execution_count": null,
   "metadata": {},
   "outputs": [],
   "source": [
    "x"
   ]
  },
  {
   "cell_type": "code",
   "execution_count": null,
   "metadata": {},
   "outputs": [],
   "source": [
    "x.sort()"
   ]
  },
  {
   "cell_type": "code",
   "execution_count": 12,
   "metadata": {},
   "outputs": [
    {
     "ename": "NameError",
     "evalue": "name 'x' is not defined",
     "output_type": "error",
     "traceback": [
      "\u001b[1;31m---------------------------------------------------------------------------\u001b[0m",
      "\u001b[1;31mNameError\u001b[0m                                 Traceback (most recent call last)",
      "\u001b[1;32m<ipython-input-12-6fcf9dfbd479>\u001b[0m in \u001b[0;36m<module>\u001b[1;34m\u001b[0m\n\u001b[1;32m----> 1\u001b[1;33m \u001b[0mx\u001b[0m\u001b[1;33m\u001b[0m\u001b[1;33m\u001b[0m\u001b[0m\n\u001b[0m",
      "\u001b[1;31mNameError\u001b[0m: name 'x' is not defined"
     ]
    }
   ],
   "source": [
    "x"
   ]
  },
  {
   "cell_type": "markdown",
   "metadata": {},
   "source": [
    "# tuples"
   ]
  },
  {
   "cell_type": "code",
   "execution_count": null,
   "metadata": {},
   "outputs": [],
   "source": [
    "t =()\n",
    "type(t)"
   ]
  },
  {
   "cell_type": "code",
   "execution_count": null,
   "metadata": {},
   "outputs": [],
   "source": [
    "t = (1,2,3,4,'sayeli',7.01)\n",
    "t"
   ]
  },
  {
   "cell_type": "code",
   "execution_count": null,
   "metadata": {},
   "outputs": [],
   "source": [
    "t[0]"
   ]
  },
  {
   "cell_type": "code",
   "execution_count": null,
   "metadata": {},
   "outputs": [],
   "source": [
    "t[0]= 'home'  "
   ]
  },
  {
   "cell_type": "code",
   "execution_count": null,
   "metadata": {},
   "outputs": [],
   "source": [
    "t1 = ('a','b','c')\n",
    "t + t1"
   ]
  },
  {
   "cell_type": "code",
   "execution_count": null,
   "metadata": {},
   "outputs": [],
   "source": [
    "for i in t:\n",
    "    print(i)"
   ]
  },
  {
   "cell_type": "code",
   "execution_count": null,
   "metadata": {},
   "outputs": [],
   "source": [
    "t.index('sayeli')"
   ]
  },
  {
   "cell_type": "code",
   "execution_count": null,
   "metadata": {},
   "outputs": [],
   "source": []
  },
  {
   "cell_type": "code",
   "execution_count": null,
   "metadata": {},
   "outputs": [],
   "source": [
    "id(t)"
   ]
  },
  {
   "cell_type": "code",
   "execution_count": 13,
   "metadata": {},
   "outputs": [
    {
     "ename": "NameError",
     "evalue": "name 't' is not defined",
     "output_type": "error",
     "traceback": [
      "\u001b[1;31m---------------------------------------------------------------------------\u001b[0m",
      "\u001b[1;31mNameError\u001b[0m                                 Traceback (most recent call last)",
      "\u001b[1;32m<ipython-input-13-3941e0efbbc0>\u001b[0m in \u001b[0;36m<module>\u001b[1;34m\u001b[0m\n\u001b[1;32m----> 1\u001b[1;33m \u001b[0mlen\u001b[0m\u001b[1;33m(\u001b[0m\u001b[0mt\u001b[0m\u001b[1;33m)\u001b[0m\u001b[1;33m\u001b[0m\u001b[1;33m\u001b[0m\u001b[0m\n\u001b[0m",
      "\u001b[1;31mNameError\u001b[0m: name 't' is not defined"
     ]
    }
   ],
   "source": [
    "len(t)"
   ]
  },
  {
   "cell_type": "code",
   "execution_count": null,
   "metadata": {},
   "outputs": [],
   "source": [
    "t2 = list(t)\n",
    "t2"
   ]
  },
  {
   "cell_type": "markdown",
   "metadata": {},
   "source": [
    "# sets"
   ]
  },
  {
   "cell_type": "code",
   "execution_count": null,
   "metadata": {},
   "outputs": [],
   "source": [
    "x = set([1,1,1,1,2,2,2,3,3,3,4,4,4,4])\n",
    "x"
   ]
  },
  {
   "cell_type": "code",
   "execution_count": null,
   "metadata": {},
   "outputs": [],
   "source": [
    "x.add('sayeli')\n",
    "x"
   ]
  },
  {
   "cell_type": "code",
   "execution_count": null,
   "metadata": {},
   "outputs": [],
   "source": [
    "x.add(700)\n",
    "x"
   ]
  },
  {
   "cell_type": "code",
   "execution_count": null,
   "metadata": {},
   "outputs": [],
   "source": [
    "list(x)"
   ]
  },
  {
   "cell_type": "code",
   "execution_count": null,
   "metadata": {},
   "outputs": [],
   "source": [
    "tuple(x)"
   ]
  },
  {
   "cell_type": "code",
   "execution_count": 14,
   "metadata": {},
   "outputs": [
    {
     "ename": "NameError",
     "evalue": "name 'x' is not defined",
     "output_type": "error",
     "traceback": [
      "\u001b[1;31m---------------------------------------------------------------------------\u001b[0m",
      "\u001b[1;31mNameError\u001b[0m                                 Traceback (most recent call last)",
      "\u001b[1;32m<ipython-input-14-225bca04dd43>\u001b[0m in \u001b[0;36m<module>\u001b[1;34m\u001b[0m\n\u001b[1;32m----> 1\u001b[1;33m \u001b[0mset\u001b[0m\u001b[1;33m(\u001b[0m\u001b[0mx\u001b[0m\u001b[1;33m)\u001b[0m\u001b[1;33m\u001b[0m\u001b[1;33m\u001b[0m\u001b[0m\n\u001b[0m",
      "\u001b[1;31mNameError\u001b[0m: name 'x' is not defined"
     ]
    }
   ],
   "source": [
    "set(x)"
   ]
  },
  {
   "cell_type": "code",
   "execution_count": null,
   "metadata": {},
   "outputs": [],
   "source": [
    "x.pop()\n",
    "x"
   ]
  },
  {
   "cell_type": "code",
   "execution_count": 1,
   "metadata": {},
   "outputs": [],
   "source": [
    "import pandas as pd\n",
    "import numpy as np"
   ]
  },
  {
   "cell_type": "code",
   "execution_count": 7,
   "metadata": {},
   "outputs": [],
   "source": [
    "df=pd.DataFrame(np.arange(0,20).reshape(5,4),index=['Row1','Row2','Row3','Row4','Row5'],columns=[\"Column1\",\"Column2\",\"Column3\",\"Coumn4\"])"
   ]
  },
  {
   "cell_type": "code",
   "execution_count": 8,
   "metadata": {},
   "outputs": [
    {
     "data": {
      "text/html": [
       "<div>\n",
       "<style scoped>\n",
       "    .dataframe tbody tr th:only-of-type {\n",
       "        vertical-align: middle;\n",
       "    }\n",
       "\n",
       "    .dataframe tbody tr th {\n",
       "        vertical-align: top;\n",
       "    }\n",
       "\n",
       "    .dataframe thead th {\n",
       "        text-align: right;\n",
       "    }\n",
       "</style>\n",
       "<table border=\"1\" class=\"dataframe\">\n",
       "  <thead>\n",
       "    <tr style=\"text-align: right;\">\n",
       "      <th></th>\n",
       "      <th>Column1</th>\n",
       "      <th>Column2</th>\n",
       "      <th>Column3</th>\n",
       "      <th>Coumn4</th>\n",
       "    </tr>\n",
       "  </thead>\n",
       "  <tbody>\n",
       "    <tr>\n",
       "      <th>Row1</th>\n",
       "      <td>0</td>\n",
       "      <td>1</td>\n",
       "      <td>2</td>\n",
       "      <td>3</td>\n",
       "    </tr>\n",
       "    <tr>\n",
       "      <th>Row2</th>\n",
       "      <td>4</td>\n",
       "      <td>5</td>\n",
       "      <td>6</td>\n",
       "      <td>7</td>\n",
       "    </tr>\n",
       "    <tr>\n",
       "      <th>Row3</th>\n",
       "      <td>8</td>\n",
       "      <td>9</td>\n",
       "      <td>10</td>\n",
       "      <td>11</td>\n",
       "    </tr>\n",
       "    <tr>\n",
       "      <th>Row4</th>\n",
       "      <td>12</td>\n",
       "      <td>13</td>\n",
       "      <td>14</td>\n",
       "      <td>15</td>\n",
       "    </tr>\n",
       "    <tr>\n",
       "      <th>Row5</th>\n",
       "      <td>16</td>\n",
       "      <td>17</td>\n",
       "      <td>18</td>\n",
       "      <td>19</td>\n",
       "    </tr>\n",
       "  </tbody>\n",
       "</table>\n",
       "</div>"
      ],
      "text/plain": [
       "      Column1  Column2  Column3  Coumn4\n",
       "Row1        0        1        2       3\n",
       "Row2        4        5        6       7\n",
       "Row3        8        9       10      11\n",
       "Row4       12       13       14      15\n",
       "Row5       16       17       18      19"
      ]
     },
     "execution_count": 8,
     "metadata": {},
     "output_type": "execute_result"
    }
   ],
   "source": [
    "df"
   ]
  },
  {
   "cell_type": "code",
   "execution_count": 9,
   "metadata": {},
   "outputs": [],
   "source": [
    "df.to_csv('test1.csv')"
   ]
  },
  {
   "cell_type": "code",
   "execution_count": 10,
   "metadata": {},
   "outputs": [
    {
     "data": {
      "text/plain": [
       "Column1    0\n",
       "Column2    1\n",
       "Column3    2\n",
       "Coumn4     3\n",
       "Name: Row1, dtype: int32"
      ]
     },
     "execution_count": 10,
     "metadata": {},
     "output_type": "execute_result"
    }
   ],
   "source": [
    "df.loc['Row1']"
   ]
  },
  {
   "cell_type": "code",
   "execution_count": 11,
   "metadata": {},
   "outputs": [
    {
     "data": {
      "text/plain": [
       "pandas.core.series.Series"
      ]
     },
     "execution_count": 11,
     "metadata": {},
     "output_type": "execute_result"
    }
   ],
   "source": [
    "type(df.loc['Row1'])"
   ]
  },
  {
   "cell_type": "code",
   "execution_count": null,
   "metadata": {},
   "outputs": [],
   "source": [
    "#series can be of one col or row"
   ]
  },
  {
   "cell_type": "code",
   "execution_count": null,
   "metadata": {},
   "outputs": [],
   "source": [
    "df.iloc[:,:]"
   ]
  },
  {
   "cell_type": "code",
   "execution_count": 13,
   "metadata": {},
   "outputs": [
    {
     "data": {
      "text/html": [
       "<div>\n",
       "<style scoped>\n",
       "    .dataframe tbody tr th:only-of-type {\n",
       "        vertical-align: middle;\n",
       "    }\n",
       "\n",
       "    .dataframe tbody tr th {\n",
       "        vertical-align: top;\n",
       "    }\n",
       "\n",
       "    .dataframe thead th {\n",
       "        text-align: right;\n",
       "    }\n",
       "</style>\n",
       "<table border=\"1\" class=\"dataframe\">\n",
       "  <thead>\n",
       "    <tr style=\"text-align: right;\">\n",
       "      <th></th>\n",
       "      <th>Column1</th>\n",
       "      <th>Column2</th>\n",
       "    </tr>\n",
       "  </thead>\n",
       "  <tbody>\n",
       "    <tr>\n",
       "      <th>Row1</th>\n",
       "      <td>0</td>\n",
       "      <td>1</td>\n",
       "    </tr>\n",
       "    <tr>\n",
       "      <th>Row2</th>\n",
       "      <td>4</td>\n",
       "      <td>5</td>\n",
       "    </tr>\n",
       "  </tbody>\n",
       "</table>\n",
       "</div>"
      ],
      "text/plain": [
       "      Column1  Column2\n",
       "Row1        0        1\n",
       "Row2        4        5"
      ]
     },
     "execution_count": 13,
     "metadata": {},
     "output_type": "execute_result"
    }
   ],
   "source": [
    "df.iloc[0:2,0:2]"
   ]
  },
  {
   "cell_type": "code",
   "execution_count": 14,
   "metadata": {},
   "outputs": [
    {
     "data": {
      "text/plain": [
       "pandas.core.frame.DataFrame"
      ]
     },
     "execution_count": 14,
     "metadata": {},
     "output_type": "execute_result"
    }
   ],
   "source": [
    "type(df.iloc[0:2,0:2])"
   ]
  },
  {
   "cell_type": "code",
   "execution_count": 17,
   "metadata": {},
   "outputs": [
    {
     "data": {
      "text/plain": [
       "pandas.core.series.Series"
      ]
     },
     "execution_count": 17,
     "metadata": {},
     "output_type": "execute_result"
    }
   ],
   "source": [
    "type(df.loc['Row1'])"
   ]
  },
  {
   "cell_type": "code",
   "execution_count": 18,
   "metadata": {},
   "outputs": [
    {
     "data": {
      "text/plain": [
       "Column1    0\n",
       "Column2    1\n",
       "Column3    2\n",
       "Coumn4     3\n",
       "Name: Row1, dtype: int32"
      ]
     },
     "execution_count": 18,
     "metadata": {},
     "output_type": "execute_result"
    }
   ],
   "source": [
    "df.loc['Row1']"
   ]
  },
  {
   "cell_type": "code",
   "execution_count": 19,
   "metadata": {},
   "outputs": [
    {
     "data": {
      "text/plain": [
       "array([[ 1,  2,  3],\n",
       "       [ 5,  6,  7],\n",
       "       [ 9, 10, 11],\n",
       "       [13, 14, 15],\n",
       "       [17, 18, 19]])"
      ]
     },
     "execution_count": 19,
     "metadata": {},
     "output_type": "execute_result"
    }
   ],
   "source": [
    "#dataframe to array\n",
    "df.iloc[:,1:].values"
   ]
  },
  {
   "cell_type": "code",
   "execution_count": 20,
   "metadata": {},
   "outputs": [
    {
     "data": {
      "text/plain": [
       "Column1    0\n",
       "Column2    0\n",
       "Column3    0\n",
       "Coumn4     0\n",
       "dtype: int64"
      ]
     },
     "execution_count": 20,
     "metadata": {},
     "output_type": "execute_result"
    }
   ],
   "source": [
    "#null values\n",
    "df.isnull().sum()\n"
   ]
  },
  {
   "cell_type": "code",
   "execution_count": 22,
   "metadata": {},
   "outputs": [
    {
     "data": {
      "text/plain": [
       "12    1\n",
       "4     1\n",
       "16    1\n",
       "8     1\n",
       "0     1\n",
       "Name: Column1, dtype: int64"
      ]
     },
     "execution_count": 22,
     "metadata": {},
     "output_type": "execute_result"
    }
   ],
   "source": [
    "df['Column1'].value_counts()"
   ]
  },
  {
   "cell_type": "code",
   "execution_count": 23,
   "metadata": {},
   "outputs": [
    {
     "data": {
      "text/plain": [
       "array([ 0,  4,  8, 12, 16])"
      ]
     },
     "execution_count": 23,
     "metadata": {},
     "output_type": "execute_result"
    }
   ],
   "source": [
    "df['Column1'].unique()"
   ]
  },
  {
   "cell_type": "code",
   "execution_count": 24,
   "metadata": {},
   "outputs": [
    {
     "data": {
      "text/html": [
       "<div>\n",
       "<style scoped>\n",
       "    .dataframe tbody tr th:only-of-type {\n",
       "        vertical-align: middle;\n",
       "    }\n",
       "\n",
       "    .dataframe tbody tr th {\n",
       "        vertical-align: top;\n",
       "    }\n",
       "\n",
       "    .dataframe thead th {\n",
       "        text-align: right;\n",
       "    }\n",
       "</style>\n",
       "<table border=\"1\" class=\"dataframe\">\n",
       "  <thead>\n",
       "    <tr style=\"text-align: right;\">\n",
       "      <th></th>\n",
       "      <th>Column1</th>\n",
       "      <th>Coumn4</th>\n",
       "    </tr>\n",
       "  </thead>\n",
       "  <tbody>\n",
       "    <tr>\n",
       "      <th>Row1</th>\n",
       "      <td>0</td>\n",
       "      <td>3</td>\n",
       "    </tr>\n",
       "    <tr>\n",
       "      <th>Row2</th>\n",
       "      <td>4</td>\n",
       "      <td>7</td>\n",
       "    </tr>\n",
       "    <tr>\n",
       "      <th>Row3</th>\n",
       "      <td>8</td>\n",
       "      <td>11</td>\n",
       "    </tr>\n",
       "    <tr>\n",
       "      <th>Row4</th>\n",
       "      <td>12</td>\n",
       "      <td>15</td>\n",
       "    </tr>\n",
       "    <tr>\n",
       "      <th>Row5</th>\n",
       "      <td>16</td>\n",
       "      <td>19</td>\n",
       "    </tr>\n",
       "  </tbody>\n",
       "</table>\n",
       "</div>"
      ],
      "text/plain": [
       "      Column1  Coumn4\n",
       "Row1        0       3\n",
       "Row2        4       7\n",
       "Row3        8      11\n",
       "Row4       12      15\n",
       "Row5       16      19"
      ]
     },
     "execution_count": 24,
     "metadata": {},
     "output_type": "execute_result"
    }
   ],
   "source": [
    "df[['Column1','Coumn4']]"
   ]
  },
  {
   "cell_type": "code",
   "execution_count": 25,
   "metadata": {},
   "outputs": [
    {
     "data": {
      "text/plain": [
       "pandas.core.frame.DataFrame"
      ]
     },
     "execution_count": 25,
     "metadata": {},
     "output_type": "execute_result"
    }
   ],
   "source": [
    "type(df[['Column1','Coumn4']])"
   ]
  },
  {
   "cell_type": "code",
   "execution_count": 26,
   "metadata": {},
   "outputs": [],
   "source": [
    "df = pd.read_csv('mercedesbenz.csv')"
   ]
  },
  {
   "cell_type": "code",
   "execution_count": 27,
   "metadata": {},
   "outputs": [
    {
     "data": {
      "text/html": [
       "<div>\n",
       "<style scoped>\n",
       "    .dataframe tbody tr th:only-of-type {\n",
       "        vertical-align: middle;\n",
       "    }\n",
       "\n",
       "    .dataframe tbody tr th {\n",
       "        vertical-align: top;\n",
       "    }\n",
       "\n",
       "    .dataframe thead th {\n",
       "        text-align: right;\n",
       "    }\n",
       "</style>\n",
       "<table border=\"1\" class=\"dataframe\">\n",
       "  <thead>\n",
       "    <tr style=\"text-align: right;\">\n",
       "      <th></th>\n",
       "      <th>ID</th>\n",
       "      <th>y</th>\n",
       "      <th>X0</th>\n",
       "      <th>X1</th>\n",
       "      <th>X2</th>\n",
       "      <th>X3</th>\n",
       "      <th>X4</th>\n",
       "      <th>X5</th>\n",
       "      <th>X6</th>\n",
       "      <th>X8</th>\n",
       "      <th>...</th>\n",
       "      <th>X375</th>\n",
       "      <th>X376</th>\n",
       "      <th>X377</th>\n",
       "      <th>X378</th>\n",
       "      <th>X379</th>\n",
       "      <th>X380</th>\n",
       "      <th>X382</th>\n",
       "      <th>X383</th>\n",
       "      <th>X384</th>\n",
       "      <th>X385</th>\n",
       "    </tr>\n",
       "  </thead>\n",
       "  <tbody>\n",
       "    <tr>\n",
       "      <th>0</th>\n",
       "      <td>0</td>\n",
       "      <td>130.81</td>\n",
       "      <td>k</td>\n",
       "      <td>v</td>\n",
       "      <td>at</td>\n",
       "      <td>a</td>\n",
       "      <td>d</td>\n",
       "      <td>u</td>\n",
       "      <td>j</td>\n",
       "      <td>o</td>\n",
       "      <td>...</td>\n",
       "      <td>0</td>\n",
       "      <td>0</td>\n",
       "      <td>1</td>\n",
       "      <td>0</td>\n",
       "      <td>0</td>\n",
       "      <td>0</td>\n",
       "      <td>0</td>\n",
       "      <td>0</td>\n",
       "      <td>0</td>\n",
       "      <td>0</td>\n",
       "    </tr>\n",
       "    <tr>\n",
       "      <th>1</th>\n",
       "      <td>6</td>\n",
       "      <td>88.53</td>\n",
       "      <td>k</td>\n",
       "      <td>t</td>\n",
       "      <td>av</td>\n",
       "      <td>e</td>\n",
       "      <td>d</td>\n",
       "      <td>y</td>\n",
       "      <td>l</td>\n",
       "      <td>o</td>\n",
       "      <td>...</td>\n",
       "      <td>1</td>\n",
       "      <td>0</td>\n",
       "      <td>0</td>\n",
       "      <td>0</td>\n",
       "      <td>0</td>\n",
       "      <td>0</td>\n",
       "      <td>0</td>\n",
       "      <td>0</td>\n",
       "      <td>0</td>\n",
       "      <td>0</td>\n",
       "    </tr>\n",
       "    <tr>\n",
       "      <th>2</th>\n",
       "      <td>7</td>\n",
       "      <td>76.26</td>\n",
       "      <td>az</td>\n",
       "      <td>w</td>\n",
       "      <td>n</td>\n",
       "      <td>c</td>\n",
       "      <td>d</td>\n",
       "      <td>x</td>\n",
       "      <td>j</td>\n",
       "      <td>x</td>\n",
       "      <td>...</td>\n",
       "      <td>0</td>\n",
       "      <td>0</td>\n",
       "      <td>0</td>\n",
       "      <td>0</td>\n",
       "      <td>0</td>\n",
       "      <td>0</td>\n",
       "      <td>1</td>\n",
       "      <td>0</td>\n",
       "      <td>0</td>\n",
       "      <td>0</td>\n",
       "    </tr>\n",
       "    <tr>\n",
       "      <th>3</th>\n",
       "      <td>9</td>\n",
       "      <td>80.62</td>\n",
       "      <td>az</td>\n",
       "      <td>t</td>\n",
       "      <td>n</td>\n",
       "      <td>f</td>\n",
       "      <td>d</td>\n",
       "      <td>x</td>\n",
       "      <td>l</td>\n",
       "      <td>e</td>\n",
       "      <td>...</td>\n",
       "      <td>0</td>\n",
       "      <td>0</td>\n",
       "      <td>0</td>\n",
       "      <td>0</td>\n",
       "      <td>0</td>\n",
       "      <td>0</td>\n",
       "      <td>0</td>\n",
       "      <td>0</td>\n",
       "      <td>0</td>\n",
       "      <td>0</td>\n",
       "    </tr>\n",
       "    <tr>\n",
       "      <th>4</th>\n",
       "      <td>13</td>\n",
       "      <td>78.02</td>\n",
       "      <td>az</td>\n",
       "      <td>v</td>\n",
       "      <td>n</td>\n",
       "      <td>f</td>\n",
       "      <td>d</td>\n",
       "      <td>h</td>\n",
       "      <td>d</td>\n",
       "      <td>n</td>\n",
       "      <td>...</td>\n",
       "      <td>0</td>\n",
       "      <td>0</td>\n",
       "      <td>0</td>\n",
       "      <td>0</td>\n",
       "      <td>0</td>\n",
       "      <td>0</td>\n",
       "      <td>0</td>\n",
       "      <td>0</td>\n",
       "      <td>0</td>\n",
       "      <td>0</td>\n",
       "    </tr>\n",
       "  </tbody>\n",
       "</table>\n",
       "<p>5 rows × 378 columns</p>\n",
       "</div>"
      ],
      "text/plain": [
       "   ID       y  X0 X1  X2 X3 X4 X5 X6 X8  ...  X375  X376  X377  X378  X379  \\\n",
       "0   0  130.81   k  v  at  a  d  u  j  o  ...     0     0     1     0     0   \n",
       "1   6   88.53   k  t  av  e  d  y  l  o  ...     1     0     0     0     0   \n",
       "2   7   76.26  az  w   n  c  d  x  j  x  ...     0     0     0     0     0   \n",
       "3   9   80.62  az  t   n  f  d  x  l  e  ...     0     0     0     0     0   \n",
       "4  13   78.02  az  v   n  f  d  h  d  n  ...     0     0     0     0     0   \n",
       "\n",
       "   X380  X382  X383  X384  X385  \n",
       "0     0     0     0     0     0  \n",
       "1     0     0     0     0     0  \n",
       "2     0     1     0     0     0  \n",
       "3     0     0     0     0     0  \n",
       "4     0     0     0     0     0  \n",
       "\n",
       "[5 rows x 378 columns]"
      ]
     },
     "execution_count": 27,
     "metadata": {},
     "output_type": "execute_result"
    }
   ],
   "source": [
    "df.head()"
   ]
  },
  {
   "cell_type": "code",
   "execution_count": 28,
   "metadata": {},
   "outputs": [
    {
     "name": "stdout",
     "output_type": "stream",
     "text": [
      "<class 'pandas.core.frame.DataFrame'>\n",
      "RangeIndex: 4209 entries, 0 to 4208\n",
      "Columns: 378 entries, ID to X385\n",
      "dtypes: float64(1), int64(369), object(8)\n",
      "memory usage: 12.1+ MB\n"
     ]
    }
   ],
   "source": [
    "df.info()"
   ]
  },
  {
   "cell_type": "code",
   "execution_count": 29,
   "metadata": {},
   "outputs": [
    {
     "data": {
      "text/html": [
       "<div>\n",
       "<style scoped>\n",
       "    .dataframe tbody tr th:only-of-type {\n",
       "        vertical-align: middle;\n",
       "    }\n",
       "\n",
       "    .dataframe tbody tr th {\n",
       "        vertical-align: top;\n",
       "    }\n",
       "\n",
       "    .dataframe thead th {\n",
       "        text-align: right;\n",
       "    }\n",
       "</style>\n",
       "<table border=\"1\" class=\"dataframe\">\n",
       "  <thead>\n",
       "    <tr style=\"text-align: right;\">\n",
       "      <th></th>\n",
       "      <th>ID</th>\n",
       "      <th>y</th>\n",
       "      <th>X10</th>\n",
       "      <th>X11</th>\n",
       "      <th>X12</th>\n",
       "      <th>X13</th>\n",
       "      <th>X14</th>\n",
       "      <th>X15</th>\n",
       "      <th>X16</th>\n",
       "      <th>X17</th>\n",
       "      <th>...</th>\n",
       "      <th>X375</th>\n",
       "      <th>X376</th>\n",
       "      <th>X377</th>\n",
       "      <th>X378</th>\n",
       "      <th>X379</th>\n",
       "      <th>X380</th>\n",
       "      <th>X382</th>\n",
       "      <th>X383</th>\n",
       "      <th>X384</th>\n",
       "      <th>X385</th>\n",
       "    </tr>\n",
       "  </thead>\n",
       "  <tbody>\n",
       "    <tr>\n",
       "      <th>count</th>\n",
       "      <td>4209.000000</td>\n",
       "      <td>4209.000000</td>\n",
       "      <td>4209.000000</td>\n",
       "      <td>4209.0</td>\n",
       "      <td>4209.000000</td>\n",
       "      <td>4209.000000</td>\n",
       "      <td>4209.000000</td>\n",
       "      <td>4209.000000</td>\n",
       "      <td>4209.000000</td>\n",
       "      <td>4209.000000</td>\n",
       "      <td>...</td>\n",
       "      <td>4209.000000</td>\n",
       "      <td>4209.000000</td>\n",
       "      <td>4209.000000</td>\n",
       "      <td>4209.000000</td>\n",
       "      <td>4209.000000</td>\n",
       "      <td>4209.000000</td>\n",
       "      <td>4209.000000</td>\n",
       "      <td>4209.000000</td>\n",
       "      <td>4209.000000</td>\n",
       "      <td>4209.000000</td>\n",
       "    </tr>\n",
       "    <tr>\n",
       "      <th>mean</th>\n",
       "      <td>4205.960798</td>\n",
       "      <td>100.669318</td>\n",
       "      <td>0.013305</td>\n",
       "      <td>0.0</td>\n",
       "      <td>0.075077</td>\n",
       "      <td>0.057971</td>\n",
       "      <td>0.428130</td>\n",
       "      <td>0.000475</td>\n",
       "      <td>0.002613</td>\n",
       "      <td>0.007603</td>\n",
       "      <td>...</td>\n",
       "      <td>0.318841</td>\n",
       "      <td>0.057258</td>\n",
       "      <td>0.314802</td>\n",
       "      <td>0.020670</td>\n",
       "      <td>0.009503</td>\n",
       "      <td>0.008078</td>\n",
       "      <td>0.007603</td>\n",
       "      <td>0.001663</td>\n",
       "      <td>0.000475</td>\n",
       "      <td>0.001426</td>\n",
       "    </tr>\n",
       "    <tr>\n",
       "      <th>std</th>\n",
       "      <td>2437.608688</td>\n",
       "      <td>12.679381</td>\n",
       "      <td>0.114590</td>\n",
       "      <td>0.0</td>\n",
       "      <td>0.263547</td>\n",
       "      <td>0.233716</td>\n",
       "      <td>0.494867</td>\n",
       "      <td>0.021796</td>\n",
       "      <td>0.051061</td>\n",
       "      <td>0.086872</td>\n",
       "      <td>...</td>\n",
       "      <td>0.466082</td>\n",
       "      <td>0.232363</td>\n",
       "      <td>0.464492</td>\n",
       "      <td>0.142294</td>\n",
       "      <td>0.097033</td>\n",
       "      <td>0.089524</td>\n",
       "      <td>0.086872</td>\n",
       "      <td>0.040752</td>\n",
       "      <td>0.021796</td>\n",
       "      <td>0.037734</td>\n",
       "    </tr>\n",
       "    <tr>\n",
       "      <th>min</th>\n",
       "      <td>0.000000</td>\n",
       "      <td>72.110000</td>\n",
       "      <td>0.000000</td>\n",
       "      <td>0.0</td>\n",
       "      <td>0.000000</td>\n",
       "      <td>0.000000</td>\n",
       "      <td>0.000000</td>\n",
       "      <td>0.000000</td>\n",
       "      <td>0.000000</td>\n",
       "      <td>0.000000</td>\n",
       "      <td>...</td>\n",
       "      <td>0.000000</td>\n",
       "      <td>0.000000</td>\n",
       "      <td>0.000000</td>\n",
       "      <td>0.000000</td>\n",
       "      <td>0.000000</td>\n",
       "      <td>0.000000</td>\n",
       "      <td>0.000000</td>\n",
       "      <td>0.000000</td>\n",
       "      <td>0.000000</td>\n",
       "      <td>0.000000</td>\n",
       "    </tr>\n",
       "    <tr>\n",
       "      <th>25%</th>\n",
       "      <td>2095.000000</td>\n",
       "      <td>90.820000</td>\n",
       "      <td>0.000000</td>\n",
       "      <td>0.0</td>\n",
       "      <td>0.000000</td>\n",
       "      <td>0.000000</td>\n",
       "      <td>0.000000</td>\n",
       "      <td>0.000000</td>\n",
       "      <td>0.000000</td>\n",
       "      <td>0.000000</td>\n",
       "      <td>...</td>\n",
       "      <td>0.000000</td>\n",
       "      <td>0.000000</td>\n",
       "      <td>0.000000</td>\n",
       "      <td>0.000000</td>\n",
       "      <td>0.000000</td>\n",
       "      <td>0.000000</td>\n",
       "      <td>0.000000</td>\n",
       "      <td>0.000000</td>\n",
       "      <td>0.000000</td>\n",
       "      <td>0.000000</td>\n",
       "    </tr>\n",
       "    <tr>\n",
       "      <th>50%</th>\n",
       "      <td>4220.000000</td>\n",
       "      <td>99.150000</td>\n",
       "      <td>0.000000</td>\n",
       "      <td>0.0</td>\n",
       "      <td>0.000000</td>\n",
       "      <td>0.000000</td>\n",
       "      <td>0.000000</td>\n",
       "      <td>0.000000</td>\n",
       "      <td>0.000000</td>\n",
       "      <td>0.000000</td>\n",
       "      <td>...</td>\n",
       "      <td>0.000000</td>\n",
       "      <td>0.000000</td>\n",
       "      <td>0.000000</td>\n",
       "      <td>0.000000</td>\n",
       "      <td>0.000000</td>\n",
       "      <td>0.000000</td>\n",
       "      <td>0.000000</td>\n",
       "      <td>0.000000</td>\n",
       "      <td>0.000000</td>\n",
       "      <td>0.000000</td>\n",
       "    </tr>\n",
       "    <tr>\n",
       "      <th>75%</th>\n",
       "      <td>6314.000000</td>\n",
       "      <td>109.010000</td>\n",
       "      <td>0.000000</td>\n",
       "      <td>0.0</td>\n",
       "      <td>0.000000</td>\n",
       "      <td>0.000000</td>\n",
       "      <td>1.000000</td>\n",
       "      <td>0.000000</td>\n",
       "      <td>0.000000</td>\n",
       "      <td>0.000000</td>\n",
       "      <td>...</td>\n",
       "      <td>1.000000</td>\n",
       "      <td>0.000000</td>\n",
       "      <td>1.000000</td>\n",
       "      <td>0.000000</td>\n",
       "      <td>0.000000</td>\n",
       "      <td>0.000000</td>\n",
       "      <td>0.000000</td>\n",
       "      <td>0.000000</td>\n",
       "      <td>0.000000</td>\n",
       "      <td>0.000000</td>\n",
       "    </tr>\n",
       "    <tr>\n",
       "      <th>max</th>\n",
       "      <td>8417.000000</td>\n",
       "      <td>265.320000</td>\n",
       "      <td>1.000000</td>\n",
       "      <td>0.0</td>\n",
       "      <td>1.000000</td>\n",
       "      <td>1.000000</td>\n",
       "      <td>1.000000</td>\n",
       "      <td>1.000000</td>\n",
       "      <td>1.000000</td>\n",
       "      <td>1.000000</td>\n",
       "      <td>...</td>\n",
       "      <td>1.000000</td>\n",
       "      <td>1.000000</td>\n",
       "      <td>1.000000</td>\n",
       "      <td>1.000000</td>\n",
       "      <td>1.000000</td>\n",
       "      <td>1.000000</td>\n",
       "      <td>1.000000</td>\n",
       "      <td>1.000000</td>\n",
       "      <td>1.000000</td>\n",
       "      <td>1.000000</td>\n",
       "    </tr>\n",
       "  </tbody>\n",
       "</table>\n",
       "<p>8 rows × 370 columns</p>\n",
       "</div>"
      ],
      "text/plain": [
       "                ID            y          X10     X11          X12  \\\n",
       "count  4209.000000  4209.000000  4209.000000  4209.0  4209.000000   \n",
       "mean   4205.960798   100.669318     0.013305     0.0     0.075077   \n",
       "std    2437.608688    12.679381     0.114590     0.0     0.263547   \n",
       "min       0.000000    72.110000     0.000000     0.0     0.000000   \n",
       "25%    2095.000000    90.820000     0.000000     0.0     0.000000   \n",
       "50%    4220.000000    99.150000     0.000000     0.0     0.000000   \n",
       "75%    6314.000000   109.010000     0.000000     0.0     0.000000   \n",
       "max    8417.000000   265.320000     1.000000     0.0     1.000000   \n",
       "\n",
       "               X13          X14          X15          X16          X17  ...  \\\n",
       "count  4209.000000  4209.000000  4209.000000  4209.000000  4209.000000  ...   \n",
       "mean      0.057971     0.428130     0.000475     0.002613     0.007603  ...   \n",
       "std       0.233716     0.494867     0.021796     0.051061     0.086872  ...   \n",
       "min       0.000000     0.000000     0.000000     0.000000     0.000000  ...   \n",
       "25%       0.000000     0.000000     0.000000     0.000000     0.000000  ...   \n",
       "50%       0.000000     0.000000     0.000000     0.000000     0.000000  ...   \n",
       "75%       0.000000     1.000000     0.000000     0.000000     0.000000  ...   \n",
       "max       1.000000     1.000000     1.000000     1.000000     1.000000  ...   \n",
       "\n",
       "              X375         X376         X377         X378         X379  \\\n",
       "count  4209.000000  4209.000000  4209.000000  4209.000000  4209.000000   \n",
       "mean      0.318841     0.057258     0.314802     0.020670     0.009503   \n",
       "std       0.466082     0.232363     0.464492     0.142294     0.097033   \n",
       "min       0.000000     0.000000     0.000000     0.000000     0.000000   \n",
       "25%       0.000000     0.000000     0.000000     0.000000     0.000000   \n",
       "50%       0.000000     0.000000     0.000000     0.000000     0.000000   \n",
       "75%       1.000000     0.000000     1.000000     0.000000     0.000000   \n",
       "max       1.000000     1.000000     1.000000     1.000000     1.000000   \n",
       "\n",
       "              X380         X382         X383         X384         X385  \n",
       "count  4209.000000  4209.000000  4209.000000  4209.000000  4209.000000  \n",
       "mean      0.008078     0.007603     0.001663     0.000475     0.001426  \n",
       "std       0.089524     0.086872     0.040752     0.021796     0.037734  \n",
       "min       0.000000     0.000000     0.000000     0.000000     0.000000  \n",
       "25%       0.000000     0.000000     0.000000     0.000000     0.000000  \n",
       "50%       0.000000     0.000000     0.000000     0.000000     0.000000  \n",
       "75%       0.000000     0.000000     0.000000     0.000000     0.000000  \n",
       "max       1.000000     1.000000     1.000000     1.000000     1.000000  \n",
       "\n",
       "[8 rows x 370 columns]"
      ]
     },
     "execution_count": 29,
     "metadata": {},
     "output_type": "execute_result"
    }
   ],
   "source": [
    "df.describe()"
   ]
  },
  {
   "cell_type": "code",
   "execution_count": 30,
   "metadata": {},
   "outputs": [],
   "source": [
    "df_test = pd.read_csv('test1.csv', sep=';')"
   ]
  },
  {
   "cell_type": "code",
   "execution_count": 31,
   "metadata": {},
   "outputs": [
    {
     "data": {
      "text/html": [
       "<div>\n",
       "<style scoped>\n",
       "    .dataframe tbody tr th:only-of-type {\n",
       "        vertical-align: middle;\n",
       "    }\n",
       "\n",
       "    .dataframe tbody tr th {\n",
       "        vertical-align: top;\n",
       "    }\n",
       "\n",
       "    .dataframe thead th {\n",
       "        text-align: right;\n",
       "    }\n",
       "</style>\n",
       "<table border=\"1\" class=\"dataframe\">\n",
       "  <thead>\n",
       "    <tr style=\"text-align: right;\">\n",
       "      <th></th>\n",
       "      <th>Unnamed: 0</th>\n",
       "      <th>Column1</th>\n",
       "      <th>Column2</th>\n",
       "      <th>Column3</th>\n",
       "      <th>Coumn4</th>\n",
       "    </tr>\n",
       "  </thead>\n",
       "  <tbody>\n",
       "    <tr>\n",
       "      <th>0</th>\n",
       "      <td>Row1</td>\n",
       "      <td>0</td>\n",
       "      <td>1</td>\n",
       "      <td>2</td>\n",
       "      <td>3</td>\n",
       "    </tr>\n",
       "    <tr>\n",
       "      <th>1</th>\n",
       "      <td>Row2</td>\n",
       "      <td>4</td>\n",
       "      <td>5</td>\n",
       "      <td>6</td>\n",
       "      <td>7</td>\n",
       "    </tr>\n",
       "    <tr>\n",
       "      <th>2</th>\n",
       "      <td>Row3</td>\n",
       "      <td>8</td>\n",
       "      <td>9</td>\n",
       "      <td>10</td>\n",
       "      <td>11</td>\n",
       "    </tr>\n",
       "    <tr>\n",
       "      <th>3</th>\n",
       "      <td>Row4</td>\n",
       "      <td>12</td>\n",
       "      <td>13</td>\n",
       "      <td>14</td>\n",
       "      <td>15</td>\n",
       "    </tr>\n",
       "    <tr>\n",
       "      <th>4</th>\n",
       "      <td>Row5</td>\n",
       "      <td>16</td>\n",
       "      <td>17</td>\n",
       "      <td>18</td>\n",
       "      <td>19</td>\n",
       "    </tr>\n",
       "  </tbody>\n",
       "</table>\n",
       "</div>"
      ],
      "text/plain": [
       "  Unnamed: 0  Column1  Column2  Column3  Coumn4\n",
       "0       Row1        0        1        2       3\n",
       "1       Row2        4        5        6       7\n",
       "2       Row3        8        9       10      11\n",
       "3       Row4       12       13       14      15\n",
       "4       Row5       16       17       18      19"
      ]
     },
     "execution_count": 31,
     "metadata": {},
     "output_type": "execute_result"
    }
   ],
   "source": [
    "df_test"
   ]
  },
  {
   "cell_type": "code",
   "execution_count": 34,
   "metadata": {},
   "outputs": [
    {
     "data": {
      "text/plain": [
       "z     360\n",
       "ak    349\n",
       "y     324\n",
       "ay    313\n",
       "t     306\n",
       "x     300\n",
       "o     269\n",
       "f     227\n",
       "n     195\n",
       "w     182\n",
       "j     181\n",
       "az    175\n",
       "aj    151\n",
       "s     106\n",
       "ap    103\n",
       "h      75\n",
       "d      73\n",
       "al     67\n",
       "v      36\n",
       "af     35\n",
       "m      34\n",
       "ai     34\n",
       "e      32\n",
       "ba     27\n",
       "at     25\n",
       "a      21\n",
       "ax     19\n",
       "am     18\n",
       "aq     18\n",
       "i      18\n",
       "u      17\n",
       "l      16\n",
       "aw     16\n",
       "ad     14\n",
       "au     11\n",
       "b      11\n",
       "k      11\n",
       "r      10\n",
       "as     10\n",
       "bc      6\n",
       "ao      4\n",
       "c       3\n",
       "aa      2\n",
       "q       2\n",
       "ab      1\n",
       "g       1\n",
       "ac      1\n",
       "Name: X0, dtype: int64"
      ]
     },
     "execution_count": 34,
     "metadata": {},
     "output_type": "execute_result"
    }
   ],
   "source": [
    "df['X0'].value_counts()"
   ]
  },
  {
   "cell_type": "code",
   "execution_count": 35,
   "metadata": {},
   "outputs": [
    {
     "data": {
      "text/html": [
       "<div>\n",
       "<style scoped>\n",
       "    .dataframe tbody tr th:only-of-type {\n",
       "        vertical-align: middle;\n",
       "    }\n",
       "\n",
       "    .dataframe tbody tr th {\n",
       "        vertical-align: top;\n",
       "    }\n",
       "\n",
       "    .dataframe thead th {\n",
       "        text-align: right;\n",
       "    }\n",
       "</style>\n",
       "<table border=\"1\" class=\"dataframe\">\n",
       "  <thead>\n",
       "    <tr style=\"text-align: right;\">\n",
       "      <th></th>\n",
       "      <th>ID</th>\n",
       "      <th>y</th>\n",
       "      <th>X0</th>\n",
       "      <th>X1</th>\n",
       "      <th>X2</th>\n",
       "      <th>X3</th>\n",
       "      <th>X4</th>\n",
       "      <th>X5</th>\n",
       "      <th>X6</th>\n",
       "      <th>X8</th>\n",
       "      <th>...</th>\n",
       "      <th>X375</th>\n",
       "      <th>X376</th>\n",
       "      <th>X377</th>\n",
       "      <th>X378</th>\n",
       "      <th>X379</th>\n",
       "      <th>X380</th>\n",
       "      <th>X382</th>\n",
       "      <th>X383</th>\n",
       "      <th>X384</th>\n",
       "      <th>X385</th>\n",
       "    </tr>\n",
       "  </thead>\n",
       "  <tbody>\n",
       "    <tr>\n",
       "      <th>0</th>\n",
       "      <td>0</td>\n",
       "      <td>130.81</td>\n",
       "      <td>k</td>\n",
       "      <td>v</td>\n",
       "      <td>at</td>\n",
       "      <td>a</td>\n",
       "      <td>d</td>\n",
       "      <td>u</td>\n",
       "      <td>j</td>\n",
       "      <td>o</td>\n",
       "      <td>...</td>\n",
       "      <td>0</td>\n",
       "      <td>0</td>\n",
       "      <td>1</td>\n",
       "      <td>0</td>\n",
       "      <td>0</td>\n",
       "      <td>0</td>\n",
       "      <td>0</td>\n",
       "      <td>0</td>\n",
       "      <td>0</td>\n",
       "      <td>0</td>\n",
       "    </tr>\n",
       "    <tr>\n",
       "      <th>6</th>\n",
       "      <td>24</td>\n",
       "      <td>128.76</td>\n",
       "      <td>al</td>\n",
       "      <td>r</td>\n",
       "      <td>e</td>\n",
       "      <td>f</td>\n",
       "      <td>d</td>\n",
       "      <td>f</td>\n",
       "      <td>h</td>\n",
       "      <td>s</td>\n",
       "      <td>...</td>\n",
       "      <td>0</td>\n",
       "      <td>0</td>\n",
       "      <td>0</td>\n",
       "      <td>0</td>\n",
       "      <td>0</td>\n",
       "      <td>0</td>\n",
       "      <td>0</td>\n",
       "      <td>0</td>\n",
       "      <td>0</td>\n",
       "      <td>0</td>\n",
       "    </tr>\n",
       "    <tr>\n",
       "      <th>8</th>\n",
       "      <td>27</td>\n",
       "      <td>108.67</td>\n",
       "      <td>w</td>\n",
       "      <td>s</td>\n",
       "      <td>as</td>\n",
       "      <td>e</td>\n",
       "      <td>d</td>\n",
       "      <td>f</td>\n",
       "      <td>i</td>\n",
       "      <td>h</td>\n",
       "      <td>...</td>\n",
       "      <td>1</td>\n",
       "      <td>0</td>\n",
       "      <td>0</td>\n",
       "      <td>0</td>\n",
       "      <td>0</td>\n",
       "      <td>0</td>\n",
       "      <td>0</td>\n",
       "      <td>0</td>\n",
       "      <td>0</td>\n",
       "      <td>0</td>\n",
       "    </tr>\n",
       "    <tr>\n",
       "      <th>9</th>\n",
       "      <td>30</td>\n",
       "      <td>126.99</td>\n",
       "      <td>j</td>\n",
       "      <td>b</td>\n",
       "      <td>aq</td>\n",
       "      <td>c</td>\n",
       "      <td>d</td>\n",
       "      <td>f</td>\n",
       "      <td>a</td>\n",
       "      <td>e</td>\n",
       "      <td>...</td>\n",
       "      <td>0</td>\n",
       "      <td>0</td>\n",
       "      <td>1</td>\n",
       "      <td>0</td>\n",
       "      <td>0</td>\n",
       "      <td>0</td>\n",
       "      <td>0</td>\n",
       "      <td>0</td>\n",
       "      <td>0</td>\n",
       "      <td>0</td>\n",
       "    </tr>\n",
       "    <tr>\n",
       "      <th>10</th>\n",
       "      <td>31</td>\n",
       "      <td>102.09</td>\n",
       "      <td>h</td>\n",
       "      <td>r</td>\n",
       "      <td>r</td>\n",
       "      <td>f</td>\n",
       "      <td>d</td>\n",
       "      <td>f</td>\n",
       "      <td>h</td>\n",
       "      <td>p</td>\n",
       "      <td>...</td>\n",
       "      <td>0</td>\n",
       "      <td>0</td>\n",
       "      <td>0</td>\n",
       "      <td>0</td>\n",
       "      <td>0</td>\n",
       "      <td>0</td>\n",
       "      <td>0</td>\n",
       "      <td>0</td>\n",
       "      <td>0</td>\n",
       "      <td>0</td>\n",
       "    </tr>\n",
       "    <tr>\n",
       "      <th>...</th>\n",
       "      <td>...</td>\n",
       "      <td>...</td>\n",
       "      <td>...</td>\n",
       "      <td>...</td>\n",
       "      <td>...</td>\n",
       "      <td>...</td>\n",
       "      <td>...</td>\n",
       "      <td>...</td>\n",
       "      <td>...</td>\n",
       "      <td>...</td>\n",
       "      <td>...</td>\n",
       "      <td>...</td>\n",
       "      <td>...</td>\n",
       "      <td>...</td>\n",
       "      <td>...</td>\n",
       "      <td>...</td>\n",
       "      <td>...</td>\n",
       "      <td>...</td>\n",
       "      <td>...</td>\n",
       "      <td>...</td>\n",
       "      <td>...</td>\n",
       "    </tr>\n",
       "    <tr>\n",
       "      <th>4202</th>\n",
       "      <td>8402</td>\n",
       "      <td>123.34</td>\n",
       "      <td>ap</td>\n",
       "      <td>l</td>\n",
       "      <td>s</td>\n",
       "      <td>c</td>\n",
       "      <td>d</td>\n",
       "      <td>aa</td>\n",
       "      <td>d</td>\n",
       "      <td>r</td>\n",
       "      <td>...</td>\n",
       "      <td>0</td>\n",
       "      <td>0</td>\n",
       "      <td>0</td>\n",
       "      <td>0</td>\n",
       "      <td>0</td>\n",
       "      <td>0</td>\n",
       "      <td>0</td>\n",
       "      <td>0</td>\n",
       "      <td>0</td>\n",
       "      <td>0</td>\n",
       "    </tr>\n",
       "    <tr>\n",
       "      <th>4204</th>\n",
       "      <td>8405</td>\n",
       "      <td>107.39</td>\n",
       "      <td>ak</td>\n",
       "      <td>s</td>\n",
       "      <td>as</td>\n",
       "      <td>c</td>\n",
       "      <td>d</td>\n",
       "      <td>aa</td>\n",
       "      <td>d</td>\n",
       "      <td>q</td>\n",
       "      <td>...</td>\n",
       "      <td>1</td>\n",
       "      <td>0</td>\n",
       "      <td>0</td>\n",
       "      <td>0</td>\n",
       "      <td>0</td>\n",
       "      <td>0</td>\n",
       "      <td>0</td>\n",
       "      <td>0</td>\n",
       "      <td>0</td>\n",
       "      <td>0</td>\n",
       "    </tr>\n",
       "    <tr>\n",
       "      <th>4205</th>\n",
       "      <td>8406</td>\n",
       "      <td>108.77</td>\n",
       "      <td>j</td>\n",
       "      <td>o</td>\n",
       "      <td>t</td>\n",
       "      <td>d</td>\n",
       "      <td>d</td>\n",
       "      <td>aa</td>\n",
       "      <td>h</td>\n",
       "      <td>h</td>\n",
       "      <td>...</td>\n",
       "      <td>0</td>\n",
       "      <td>1</td>\n",
       "      <td>0</td>\n",
       "      <td>0</td>\n",
       "      <td>0</td>\n",
       "      <td>0</td>\n",
       "      <td>0</td>\n",
       "      <td>0</td>\n",
       "      <td>0</td>\n",
       "      <td>0</td>\n",
       "    </tr>\n",
       "    <tr>\n",
       "      <th>4206</th>\n",
       "      <td>8412</td>\n",
       "      <td>109.22</td>\n",
       "      <td>ak</td>\n",
       "      <td>v</td>\n",
       "      <td>r</td>\n",
       "      <td>a</td>\n",
       "      <td>d</td>\n",
       "      <td>aa</td>\n",
       "      <td>g</td>\n",
       "      <td>e</td>\n",
       "      <td>...</td>\n",
       "      <td>0</td>\n",
       "      <td>0</td>\n",
       "      <td>1</td>\n",
       "      <td>0</td>\n",
       "      <td>0</td>\n",
       "      <td>0</td>\n",
       "      <td>0</td>\n",
       "      <td>0</td>\n",
       "      <td>0</td>\n",
       "      <td>0</td>\n",
       "    </tr>\n",
       "    <tr>\n",
       "      <th>4208</th>\n",
       "      <td>8417</td>\n",
       "      <td>110.85</td>\n",
       "      <td>z</td>\n",
       "      <td>r</td>\n",
       "      <td>ae</td>\n",
       "      <td>c</td>\n",
       "      <td>d</td>\n",
       "      <td>aa</td>\n",
       "      <td>g</td>\n",
       "      <td>w</td>\n",
       "      <td>...</td>\n",
       "      <td>1</td>\n",
       "      <td>0</td>\n",
       "      <td>0</td>\n",
       "      <td>0</td>\n",
       "      <td>0</td>\n",
       "      <td>0</td>\n",
       "      <td>0</td>\n",
       "      <td>0</td>\n",
       "      <td>0</td>\n",
       "      <td>0</td>\n",
       "    </tr>\n",
       "  </tbody>\n",
       "</table>\n",
       "<p>2004 rows × 378 columns</p>\n",
       "</div>"
      ],
      "text/plain": [
       "        ID       y  X0 X1  X2 X3 X4  X5 X6 X8  ...  X375  X376  X377  X378  \\\n",
       "0        0  130.81   k  v  at  a  d   u  j  o  ...     0     0     1     0   \n",
       "6       24  128.76  al  r   e  f  d   f  h  s  ...     0     0     0     0   \n",
       "8       27  108.67   w  s  as  e  d   f  i  h  ...     1     0     0     0   \n",
       "9       30  126.99   j  b  aq  c  d   f  a  e  ...     0     0     1     0   \n",
       "10      31  102.09   h  r   r  f  d   f  h  p  ...     0     0     0     0   \n",
       "...    ...     ...  .. ..  .. .. ..  .. .. ..  ...   ...   ...   ...   ...   \n",
       "4202  8402  123.34  ap  l   s  c  d  aa  d  r  ...     0     0     0     0   \n",
       "4204  8405  107.39  ak  s  as  c  d  aa  d  q  ...     1     0     0     0   \n",
       "4205  8406  108.77   j  o   t  d  d  aa  h  h  ...     0     1     0     0   \n",
       "4206  8412  109.22  ak  v   r  a  d  aa  g  e  ...     0     0     1     0   \n",
       "4208  8417  110.85   z  r  ae  c  d  aa  g  w  ...     1     0     0     0   \n",
       "\n",
       "      X379  X380  X382  X383  X384  X385  \n",
       "0        0     0     0     0     0     0  \n",
       "6        0     0     0     0     0     0  \n",
       "8        0     0     0     0     0     0  \n",
       "9        0     0     0     0     0     0  \n",
       "10       0     0     0     0     0     0  \n",
       "...    ...   ...   ...   ...   ...   ...  \n",
       "4202     0     0     0     0     0     0  \n",
       "4204     0     0     0     0     0     0  \n",
       "4205     0     0     0     0     0     0  \n",
       "4206     0     0     0     0     0     0  \n",
       "4208     0     0     0     0     0     0  \n",
       "\n",
       "[2004 rows x 378 columns]"
      ]
     },
     "execution_count": 35,
     "metadata": {},
     "output_type": "execute_result"
    }
   ],
   "source": [
    "df[df['y']>100]"
   ]
  },
  {
   "cell_type": "code",
   "execution_count": 36,
   "metadata": {},
   "outputs": [],
   "source": [
    "from io import StringIO, BytesIO"
   ]
  },
  {
   "cell_type": "code",
   "execution_count": 38,
   "metadata": {},
   "outputs": [],
   "source": [
    "data = ('col1,col2,col3\\n'\n",
    "          'x,y,z\\n'\n",
    "          'a,b,2\\n'\n",
    "           'c,d,3')"
   ]
  },
  {
   "cell_type": "code",
   "execution_count": 39,
   "metadata": {},
   "outputs": [
    {
     "data": {
      "text/plain": [
       "str"
      ]
     },
     "execution_count": 39,
     "metadata": {},
     "output_type": "execute_result"
    }
   ],
   "source": [
    "type(data)"
   ]
  },
  {
   "cell_type": "code",
   "execution_count": null,
   "metadata": {},
   "outputs": [],
   "source": [
    "StringIO()"
   ]
  },
  {
   "cell_type": "code",
   "execution_count": 40,
   "metadata": {},
   "outputs": [
    {
     "data": {
      "text/html": [
       "<div>\n",
       "<style scoped>\n",
       "    .dataframe tbody tr th:only-of-type {\n",
       "        vertical-align: middle;\n",
       "    }\n",
       "\n",
       "    .dataframe tbody tr th {\n",
       "        vertical-align: top;\n",
       "    }\n",
       "\n",
       "    .dataframe thead th {\n",
       "        text-align: right;\n",
       "    }\n",
       "</style>\n",
       "<table border=\"1\" class=\"dataframe\">\n",
       "  <thead>\n",
       "    <tr style=\"text-align: right;\">\n",
       "      <th></th>\n",
       "      <th>col1</th>\n",
       "      <th>col2</th>\n",
       "      <th>col3</th>\n",
       "    </tr>\n",
       "  </thead>\n",
       "  <tbody>\n",
       "    <tr>\n",
       "      <th>0</th>\n",
       "      <td>x</td>\n",
       "      <td>y</td>\n",
       "      <td>z</td>\n",
       "    </tr>\n",
       "    <tr>\n",
       "      <th>1</th>\n",
       "      <td>a</td>\n",
       "      <td>b</td>\n",
       "      <td>2</td>\n",
       "    </tr>\n",
       "    <tr>\n",
       "      <th>2</th>\n",
       "      <td>c</td>\n",
       "      <td>d</td>\n",
       "      <td>3</td>\n",
       "    </tr>\n",
       "  </tbody>\n",
       "</table>\n",
       "</div>"
      ],
      "text/plain": [
       "  col1 col2 col3\n",
       "0    x    y    z\n",
       "1    a    b    2\n",
       "2    c    d    3"
      ]
     },
     "execution_count": 40,
     "metadata": {},
     "output_type": "execute_result"
    }
   ],
   "source": [
    "pd.read_csv(StringIO(data))"
   ]
  },
  {
   "cell_type": "code",
   "execution_count": 41,
   "metadata": {},
   "outputs": [],
   "source": [
    "df1 = pd.read_csv(StringIO(data), usecols= ['col2','col3'])"
   ]
  },
  {
   "cell_type": "code",
   "execution_count": 42,
   "metadata": {},
   "outputs": [
    {
     "data": {
      "text/html": [
       "<div>\n",
       "<style scoped>\n",
       "    .dataframe tbody tr th:only-of-type {\n",
       "        vertical-align: middle;\n",
       "    }\n",
       "\n",
       "    .dataframe tbody tr th {\n",
       "        vertical-align: top;\n",
       "    }\n",
       "\n",
       "    .dataframe thead th {\n",
       "        text-align: right;\n",
       "    }\n",
       "</style>\n",
       "<table border=\"1\" class=\"dataframe\">\n",
       "  <thead>\n",
       "    <tr style=\"text-align: right;\">\n",
       "      <th></th>\n",
       "      <th>col2</th>\n",
       "      <th>col3</th>\n",
       "    </tr>\n",
       "  </thead>\n",
       "  <tbody>\n",
       "    <tr>\n",
       "      <th>0</th>\n",
       "      <td>y</td>\n",
       "      <td>z</td>\n",
       "    </tr>\n",
       "    <tr>\n",
       "      <th>1</th>\n",
       "      <td>b</td>\n",
       "      <td>2</td>\n",
       "    </tr>\n",
       "    <tr>\n",
       "      <th>2</th>\n",
       "      <td>d</td>\n",
       "      <td>3</td>\n",
       "    </tr>\n",
       "  </tbody>\n",
       "</table>\n",
       "</div>"
      ],
      "text/plain": [
       "  col2 col3\n",
       "0    y    z\n",
       "1    b    2\n",
       "2    d    3"
      ]
     },
     "execution_count": 42,
     "metadata": {},
     "output_type": "execute_result"
    }
   ],
   "source": [
    "df1"
   ]
  },
  {
   "cell_type": "code",
   "execution_count": 43,
   "metadata": {},
   "outputs": [],
   "source": [
    "df1.to_csv('test1.csv')"
   ]
  },
  {
   "cell_type": "code",
   "execution_count": 50,
   "metadata": {},
   "outputs": [],
   "source": [
    "data = ('a,b,c,d\\n'\n",
    "       '1,2,3,4\\n'\n",
    "       '5,6,7,8\\n'\n",
    "       '9,10,11,12')"
   ]
  },
  {
   "cell_type": "code",
   "execution_count": 51,
   "metadata": {},
   "outputs": [
    {
     "name": "stdout",
     "output_type": "stream",
     "text": [
      "a,b,c,d\n",
      "1,2,3,4\n",
      "5,6,7,8\n",
      "9,10,11,12\n"
     ]
    }
   ],
   "source": [
    "print(data)"
   ]
  },
  {
   "cell_type": "code",
   "execution_count": 52,
   "metadata": {},
   "outputs": [],
   "source": [
    "df2 = pd.read_csv(StringIO(data), dtype=object)"
   ]
  },
  {
   "cell_type": "code",
   "execution_count": 53,
   "metadata": {},
   "outputs": [
    {
     "data": {
      "text/html": [
       "<div>\n",
       "<style scoped>\n",
       "    .dataframe tbody tr th:only-of-type {\n",
       "        vertical-align: middle;\n",
       "    }\n",
       "\n",
       "    .dataframe tbody tr th {\n",
       "        vertical-align: top;\n",
       "    }\n",
       "\n",
       "    .dataframe thead th {\n",
       "        text-align: right;\n",
       "    }\n",
       "</style>\n",
       "<table border=\"1\" class=\"dataframe\">\n",
       "  <thead>\n",
       "    <tr style=\"text-align: right;\">\n",
       "      <th></th>\n",
       "      <th>a</th>\n",
       "      <th>b</th>\n",
       "      <th>c</th>\n",
       "      <th>d</th>\n",
       "    </tr>\n",
       "  </thead>\n",
       "  <tbody>\n",
       "    <tr>\n",
       "      <th>0</th>\n",
       "      <td>1</td>\n",
       "      <td>2</td>\n",
       "      <td>3</td>\n",
       "      <td>4</td>\n",
       "    </tr>\n",
       "    <tr>\n",
       "      <th>1</th>\n",
       "      <td>5</td>\n",
       "      <td>6</td>\n",
       "      <td>7</td>\n",
       "      <td>8</td>\n",
       "    </tr>\n",
       "    <tr>\n",
       "      <th>2</th>\n",
       "      <td>9</td>\n",
       "      <td>10</td>\n",
       "      <td>11</td>\n",
       "      <td>12</td>\n",
       "    </tr>\n",
       "  </tbody>\n",
       "</table>\n",
       "</div>"
      ],
      "text/plain": [
       "   a   b   c   d\n",
       "0  1   2   3   4\n",
       "1  5   6   7   8\n",
       "2  9  10  11  12"
      ]
     },
     "execution_count": 53,
     "metadata": {},
     "output_type": "execute_result"
    }
   ],
   "source": [
    "df2"
   ]
  },
  {
   "cell_type": "code",
   "execution_count": 49,
   "metadata": {},
   "outputs": [
    {
     "data": {
      "text/plain": [
       "0    1\n",
       "1    5\n",
       "2    9\n",
       "Name: a, dtype: object"
      ]
     },
     "execution_count": 49,
     "metadata": {},
     "output_type": "execute_result"
    }
   ],
   "source": [
    "df2['a']"
   ]
  },
  {
   "cell_type": "code",
   "execution_count": 57,
   "metadata": {},
   "outputs": [],
   "source": [
    "df4 = pd.read_csv(StringIO(data), dtype=float)"
   ]
  },
  {
   "cell_type": "code",
   "execution_count": 58,
   "metadata": {},
   "outputs": [
    {
     "data": {
      "text/html": [
       "<div>\n",
       "<style scoped>\n",
       "    .dataframe tbody tr th:only-of-type {\n",
       "        vertical-align: middle;\n",
       "    }\n",
       "\n",
       "    .dataframe tbody tr th {\n",
       "        vertical-align: top;\n",
       "    }\n",
       "\n",
       "    .dataframe thead th {\n",
       "        text-align: right;\n",
       "    }\n",
       "</style>\n",
       "<table border=\"1\" class=\"dataframe\">\n",
       "  <thead>\n",
       "    <tr style=\"text-align: right;\">\n",
       "      <th></th>\n",
       "      <th>a</th>\n",
       "      <th>b</th>\n",
       "      <th>c</th>\n",
       "      <th>d</th>\n",
       "    </tr>\n",
       "  </thead>\n",
       "  <tbody>\n",
       "    <tr>\n",
       "      <th>0</th>\n",
       "      <td>1.0</td>\n",
       "      <td>2.0</td>\n",
       "      <td>3.0</td>\n",
       "      <td>4.0</td>\n",
       "    </tr>\n",
       "    <tr>\n",
       "      <th>1</th>\n",
       "      <td>5.0</td>\n",
       "      <td>6.0</td>\n",
       "      <td>7.0</td>\n",
       "      <td>8.0</td>\n",
       "    </tr>\n",
       "    <tr>\n",
       "      <th>2</th>\n",
       "      <td>9.0</td>\n",
       "      <td>10.0</td>\n",
       "      <td>11.0</td>\n",
       "      <td>12.0</td>\n",
       "    </tr>\n",
       "  </tbody>\n",
       "</table>\n",
       "</div>"
      ],
      "text/plain": [
       "     a     b     c     d\n",
       "0  1.0   2.0   3.0   4.0\n",
       "1  5.0   6.0   7.0   8.0\n",
       "2  9.0  10.0  11.0  12.0"
      ]
     },
     "execution_count": 58,
     "metadata": {},
     "output_type": "execute_result"
    }
   ],
   "source": [
    "df4"
   ]
  },
  {
   "cell_type": "code",
   "execution_count": 59,
   "metadata": {},
   "outputs": [
    {
     "data": {
      "text/plain": [
       "0    1.0\n",
       "1    5.0\n",
       "2    9.0\n",
       "Name: a, dtype: float64"
      ]
     },
     "execution_count": 59,
     "metadata": {},
     "output_type": "execute_result"
    }
   ],
   "source": [
    "df4['a']"
   ]
  },
  {
   "cell_type": "code",
   "execution_count": 60,
   "metadata": {},
   "outputs": [],
   "source": [
    "df3 = pd.read_csv(StringIO(data), dtype={'b':int,'c':float,'a':'Int64'})"
   ]
  },
  {
   "cell_type": "code",
   "execution_count": 61,
   "metadata": {},
   "outputs": [
    {
     "data": {
      "text/html": [
       "<div>\n",
       "<style scoped>\n",
       "    .dataframe tbody tr th:only-of-type {\n",
       "        vertical-align: middle;\n",
       "    }\n",
       "\n",
       "    .dataframe tbody tr th {\n",
       "        vertical-align: top;\n",
       "    }\n",
       "\n",
       "    .dataframe thead th {\n",
       "        text-align: right;\n",
       "    }\n",
       "</style>\n",
       "<table border=\"1\" class=\"dataframe\">\n",
       "  <thead>\n",
       "    <tr style=\"text-align: right;\">\n",
       "      <th></th>\n",
       "      <th>a</th>\n",
       "      <th>b</th>\n",
       "      <th>c</th>\n",
       "      <th>d</th>\n",
       "    </tr>\n",
       "  </thead>\n",
       "  <tbody>\n",
       "    <tr>\n",
       "      <th>0</th>\n",
       "      <td>1</td>\n",
       "      <td>2</td>\n",
       "      <td>3.0</td>\n",
       "      <td>4</td>\n",
       "    </tr>\n",
       "    <tr>\n",
       "      <th>1</th>\n",
       "      <td>5</td>\n",
       "      <td>6</td>\n",
       "      <td>7.0</td>\n",
       "      <td>8</td>\n",
       "    </tr>\n",
       "    <tr>\n",
       "      <th>2</th>\n",
       "      <td>9</td>\n",
       "      <td>10</td>\n",
       "      <td>11.0</td>\n",
       "      <td>12</td>\n",
       "    </tr>\n",
       "  </tbody>\n",
       "</table>\n",
       "</div>"
      ],
      "text/plain": [
       "   a   b     c   d\n",
       "0  1   2   3.0   4\n",
       "1  5   6   7.0   8\n",
       "2  9  10  11.0  12"
      ]
     },
     "execution_count": 61,
     "metadata": {},
     "output_type": "execute_result"
    }
   ],
   "source": [
    "df3"
   ]
  },
  {
   "cell_type": "code",
   "execution_count": 62,
   "metadata": {},
   "outputs": [
    {
     "data": {
      "text/plain": [
       "numpy.int64"
      ]
     },
     "execution_count": 62,
     "metadata": {},
     "output_type": "execute_result"
    }
   ],
   "source": [
    "type(df3['a'][1])"
   ]
  },
  {
   "cell_type": "code",
   "execution_count": 63,
   "metadata": {},
   "outputs": [
    {
     "data": {
      "text/plain": [
       "a      Int64\n",
       "b      int32\n",
       "c    float64\n",
       "d      int64\n",
       "dtype: object"
      ]
     },
     "execution_count": 63,
     "metadata": {},
     "output_type": "execute_result"
    }
   ],
   "source": [
    "df3.dtypes"
   ]
  },
  {
   "cell_type": "code",
   "execution_count": 64,
   "metadata": {},
   "outputs": [],
   "source": [
    "data = ('index,a,b,c\\n'\n",
    "       '4,roshni,aniket,5.7\\n'\n",
    "       '8,sayeli,soummya,10\\n')"
   ]
  },
  {
   "cell_type": "code",
   "execution_count": 66,
   "metadata": {},
   "outputs": [
    {
     "data": {
      "text/html": [
       "<div>\n",
       "<style scoped>\n",
       "    .dataframe tbody tr th:only-of-type {\n",
       "        vertical-align: middle;\n",
       "    }\n",
       "\n",
       "    .dataframe tbody tr th {\n",
       "        vertical-align: top;\n",
       "    }\n",
       "\n",
       "    .dataframe thead th {\n",
       "        text-align: right;\n",
       "    }\n",
       "</style>\n",
       "<table border=\"1\" class=\"dataframe\">\n",
       "  <thead>\n",
       "    <tr style=\"text-align: right;\">\n",
       "      <th></th>\n",
       "      <th>index</th>\n",
       "      <th>a</th>\n",
       "      <th>b</th>\n",
       "      <th>c</th>\n",
       "    </tr>\n",
       "  </thead>\n",
       "  <tbody>\n",
       "    <tr>\n",
       "      <th>0</th>\n",
       "      <td>4</td>\n",
       "      <td>roshni</td>\n",
       "      <td>aniket</td>\n",
       "      <td>5.7</td>\n",
       "    </tr>\n",
       "    <tr>\n",
       "      <th>1</th>\n",
       "      <td>8</td>\n",
       "      <td>sayeli</td>\n",
       "      <td>soummya</td>\n",
       "      <td>10.0</td>\n",
       "    </tr>\n",
       "  </tbody>\n",
       "</table>\n",
       "</div>"
      ],
      "text/plain": [
       "   index       a        b     c\n",
       "0      4  roshni   aniket   5.7\n",
       "1      8  sayeli  soummya  10.0"
      ]
     },
     "execution_count": 66,
     "metadata": {},
     "output_type": "execute_result"
    }
   ],
   "source": [
    "pd.read_csv(StringIO(data))"
   ]
  },
  {
   "cell_type": "code",
   "execution_count": 67,
   "metadata": {},
   "outputs": [
    {
     "data": {
      "text/html": [
       "<div>\n",
       "<style scoped>\n",
       "    .dataframe tbody tr th:only-of-type {\n",
       "        vertical-align: middle;\n",
       "    }\n",
       "\n",
       "    .dataframe tbody tr th {\n",
       "        vertical-align: top;\n",
       "    }\n",
       "\n",
       "    .dataframe thead th {\n",
       "        text-align: right;\n",
       "    }\n",
       "</style>\n",
       "<table border=\"1\" class=\"dataframe\">\n",
       "  <thead>\n",
       "    <tr style=\"text-align: right;\">\n",
       "      <th></th>\n",
       "      <th>a</th>\n",
       "      <th>b</th>\n",
       "      <th>c</th>\n",
       "    </tr>\n",
       "    <tr>\n",
       "      <th>index</th>\n",
       "      <th></th>\n",
       "      <th></th>\n",
       "      <th></th>\n",
       "    </tr>\n",
       "  </thead>\n",
       "  <tbody>\n",
       "    <tr>\n",
       "      <th>4</th>\n",
       "      <td>roshni</td>\n",
       "      <td>aniket</td>\n",
       "      <td>5.7</td>\n",
       "    </tr>\n",
       "    <tr>\n",
       "      <th>8</th>\n",
       "      <td>sayeli</td>\n",
       "      <td>soummya</td>\n",
       "      <td>10.0</td>\n",
       "    </tr>\n",
       "  </tbody>\n",
       "</table>\n",
       "</div>"
      ],
      "text/plain": [
       "            a        b     c\n",
       "index                       \n",
       "4      roshni   aniket   5.7\n",
       "8      sayeli  soummya  10.0"
      ]
     },
     "execution_count": 67,
     "metadata": {},
     "output_type": "execute_result"
    }
   ],
   "source": [
    "pd.read_csv(StringIO(data), index_col=0)"
   ]
  },
  {
   "cell_type": "code",
   "execution_count": 68,
   "metadata": {},
   "outputs": [
    {
     "data": {
      "text/html": [
       "<div>\n",
       "<style scoped>\n",
       "    .dataframe tbody tr th:only-of-type {\n",
       "        vertical-align: middle;\n",
       "    }\n",
       "\n",
       "    .dataframe tbody tr th {\n",
       "        vertical-align: top;\n",
       "    }\n",
       "\n",
       "    .dataframe thead th {\n",
       "        text-align: right;\n",
       "    }\n",
       "</style>\n",
       "<table border=\"1\" class=\"dataframe\">\n",
       "  <thead>\n",
       "    <tr style=\"text-align: right;\">\n",
       "      <th></th>\n",
       "      <th>index</th>\n",
       "      <th>a</th>\n",
       "      <th>c</th>\n",
       "    </tr>\n",
       "    <tr>\n",
       "      <th>b</th>\n",
       "      <th></th>\n",
       "      <th></th>\n",
       "      <th></th>\n",
       "    </tr>\n",
       "  </thead>\n",
       "  <tbody>\n",
       "    <tr>\n",
       "      <th>aniket</th>\n",
       "      <td>4</td>\n",
       "      <td>roshni</td>\n",
       "      <td>5.7</td>\n",
       "    </tr>\n",
       "    <tr>\n",
       "      <th>soummya</th>\n",
       "      <td>8</td>\n",
       "      <td>sayeli</td>\n",
       "      <td>10.0</td>\n",
       "    </tr>\n",
       "  </tbody>\n",
       "</table>\n",
       "</div>"
      ],
      "text/plain": [
       "         index       a     c\n",
       "b                           \n",
       "aniket       4  roshni   5.7\n",
       "soummya      8  sayeli  10.0"
      ]
     },
     "execution_count": 68,
     "metadata": {},
     "output_type": "execute_result"
    }
   ],
   "source": [
    "pd.read_csv(StringIO(data), index_col=2)"
   ]
  },
  {
   "cell_type": "code",
   "execution_count": 74,
   "metadata": {},
   "outputs": [],
   "source": [
    "data = ('a,b,c\\n'\n",
    "       '4,roshni,aniket,5.7\\n'\n",
    "       '8,sayeli,soummya,10\\n')"
   ]
  },
  {
   "cell_type": "code",
   "execution_count": 75,
   "metadata": {},
   "outputs": [
    {
     "data": {
      "text/html": [
       "<div>\n",
       "<style scoped>\n",
       "    .dataframe tbody tr th:only-of-type {\n",
       "        vertical-align: middle;\n",
       "    }\n",
       "\n",
       "    .dataframe tbody tr th {\n",
       "        vertical-align: top;\n",
       "    }\n",
       "\n",
       "    .dataframe thead th {\n",
       "        text-align: right;\n",
       "    }\n",
       "</style>\n",
       "<table border=\"1\" class=\"dataframe\">\n",
       "  <thead>\n",
       "    <tr style=\"text-align: right;\">\n",
       "      <th></th>\n",
       "      <th>a</th>\n",
       "      <th>b</th>\n",
       "      <th>c</th>\n",
       "    </tr>\n",
       "  </thead>\n",
       "  <tbody>\n",
       "    <tr>\n",
       "      <th>4</th>\n",
       "      <td>roshni</td>\n",
       "      <td>aniket</td>\n",
       "      <td>5.7</td>\n",
       "    </tr>\n",
       "    <tr>\n",
       "      <th>8</th>\n",
       "      <td>sayeli</td>\n",
       "      <td>soummya</td>\n",
       "      <td>10.0</td>\n",
       "    </tr>\n",
       "  </tbody>\n",
       "</table>\n",
       "</div>"
      ],
      "text/plain": [
       "        a        b     c\n",
       "4  roshni   aniket   5.7\n",
       "8  sayeli  soummya  10.0"
      ]
     },
     "execution_count": 75,
     "metadata": {},
     "output_type": "execute_result"
    }
   ],
   "source": [
    "pd.read_csv(StringIO(data))"
   ]
  },
  {
   "cell_type": "code",
   "execution_count": 76,
   "metadata": {},
   "outputs": [
    {
     "data": {
      "text/html": [
       "<div>\n",
       "<style scoped>\n",
       "    .dataframe tbody tr th:only-of-type {\n",
       "        vertical-align: middle;\n",
       "    }\n",
       "\n",
       "    .dataframe tbody tr th {\n",
       "        vertical-align: top;\n",
       "    }\n",
       "\n",
       "    .dataframe thead th {\n",
       "        text-align: right;\n",
       "    }\n",
       "</style>\n",
       "<table border=\"1\" class=\"dataframe\">\n",
       "  <thead>\n",
       "    <tr style=\"text-align: right;\">\n",
       "      <th></th>\n",
       "      <th>a</th>\n",
       "      <th>b</th>\n",
       "      <th>c</th>\n",
       "    </tr>\n",
       "  </thead>\n",
       "  <tbody>\n",
       "    <tr>\n",
       "      <th>0</th>\n",
       "      <td>4</td>\n",
       "      <td>roshni</td>\n",
       "      <td>aniket</td>\n",
       "    </tr>\n",
       "    <tr>\n",
       "      <th>1</th>\n",
       "      <td>8</td>\n",
       "      <td>sayeli</td>\n",
       "      <td>soummya</td>\n",
       "    </tr>\n",
       "  </tbody>\n",
       "</table>\n",
       "</div>"
      ],
      "text/plain": [
       "   a       b        c\n",
       "0  4  roshni   aniket\n",
       "1  8  sayeli  soummya"
      ]
     },
     "execution_count": 76,
     "metadata": {},
     "output_type": "execute_result"
    }
   ],
   "source": [
    "pd.read_csv(StringIO(data),index_col=False)"
   ]
  },
  {
   "cell_type": "code",
   "execution_count": 85,
   "metadata": {},
   "outputs": [],
   "source": [
    "## Quoting and Escape Characters¶. Very useful in NLP\n",
    "\n",
    "data = 'a,b\\n\"hello, \\\\\"Sayeli\\\\\", Aspirant Data Scientist\",100'"
   ]
  },
  {
   "cell_type": "code",
   "execution_count": 87,
   "metadata": {},
   "outputs": [
    {
     "data": {
      "text/html": [
       "<div>\n",
       "<style scoped>\n",
       "    .dataframe tbody tr th:only-of-type {\n",
       "        vertical-align: middle;\n",
       "    }\n",
       "\n",
       "    .dataframe tbody tr th {\n",
       "        vertical-align: top;\n",
       "    }\n",
       "\n",
       "    .dataframe thead th {\n",
       "        text-align: right;\n",
       "    }\n",
       "</style>\n",
       "<table border=\"1\" class=\"dataframe\">\n",
       "  <thead>\n",
       "    <tr style=\"text-align: right;\">\n",
       "      <th></th>\n",
       "      <th>a</th>\n",
       "      <th>b</th>\n",
       "    </tr>\n",
       "  </thead>\n",
       "  <tbody>\n",
       "    <tr>\n",
       "      <th>0</th>\n",
       "      <td>hello, \"Sayeli\", Aspirant Data Scientist</td>\n",
       "      <td>100</td>\n",
       "    </tr>\n",
       "  </tbody>\n",
       "</table>\n",
       "</div>"
      ],
      "text/plain": [
       "                                          a    b\n",
       "0  hello, \"Sayeli\", Aspirant Data Scientist  100"
      ]
     },
     "execution_count": 87,
     "metadata": {},
     "output_type": "execute_result"
    }
   ],
   "source": [
    "pd.read_csv(StringIO(data),escapechar='\\\\')"
   ]
  },
  {
   "cell_type": "code",
   "execution_count": 88,
   "metadata": {},
   "outputs": [],
   "source": [
    "## URL to CSV\n",
    "\n",
    "df=pd.read_csv('https://download.bls.gov/pub/time.series/cu/cu.item',\n",
    "                 sep='\\t')"
   ]
  },
  {
   "cell_type": "code",
   "execution_count": 89,
   "metadata": {},
   "outputs": [
    {
     "data": {
      "text/html": [
       "<div>\n",
       "<style scoped>\n",
       "    .dataframe tbody tr th:only-of-type {\n",
       "        vertical-align: middle;\n",
       "    }\n",
       "\n",
       "    .dataframe tbody tr th {\n",
       "        vertical-align: top;\n",
       "    }\n",
       "\n",
       "    .dataframe thead th {\n",
       "        text-align: right;\n",
       "    }\n",
       "</style>\n",
       "<table border=\"1\" class=\"dataframe\">\n",
       "  <thead>\n",
       "    <tr style=\"text-align: right;\">\n",
       "      <th></th>\n",
       "      <th>item_code</th>\n",
       "      <th>item_name</th>\n",
       "      <th>display_level</th>\n",
       "      <th>selectable</th>\n",
       "      <th>sort_sequence</th>\n",
       "    </tr>\n",
       "  </thead>\n",
       "  <tbody>\n",
       "    <tr>\n",
       "      <th>0</th>\n",
       "      <td>AA0</td>\n",
       "      <td>All items - old base</td>\n",
       "      <td>0</td>\n",
       "      <td>T</td>\n",
       "      <td>2</td>\n",
       "    </tr>\n",
       "    <tr>\n",
       "      <th>1</th>\n",
       "      <td>AA0R</td>\n",
       "      <td>Purchasing power of the consumer dollar - old ...</td>\n",
       "      <td>0</td>\n",
       "      <td>T</td>\n",
       "      <td>399</td>\n",
       "    </tr>\n",
       "    <tr>\n",
       "      <th>2</th>\n",
       "      <td>SA0</td>\n",
       "      <td>All items</td>\n",
       "      <td>0</td>\n",
       "      <td>T</td>\n",
       "      <td>1</td>\n",
       "    </tr>\n",
       "    <tr>\n",
       "      <th>3</th>\n",
       "      <td>SA0E</td>\n",
       "      <td>Energy</td>\n",
       "      <td>1</td>\n",
       "      <td>T</td>\n",
       "      <td>374</td>\n",
       "    </tr>\n",
       "    <tr>\n",
       "      <th>4</th>\n",
       "      <td>SA0L1</td>\n",
       "      <td>All items less food</td>\n",
       "      <td>1</td>\n",
       "      <td>T</td>\n",
       "      <td>358</td>\n",
       "    </tr>\n",
       "  </tbody>\n",
       "</table>\n",
       "</div>"
      ],
      "text/plain": [
       "  item_code                                          item_name  display_level  \\\n",
       "0       AA0                               All items - old base              0   \n",
       "1      AA0R  Purchasing power of the consumer dollar - old ...              0   \n",
       "2       SA0                                          All items              0   \n",
       "3      SA0E                                             Energy              1   \n",
       "4     SA0L1                                All items less food              1   \n",
       "\n",
       "  selectable  sort_sequence  \n",
       "0          T              2  \n",
       "1          T            399  \n",
       "2          T              1  \n",
       "3          T            374  \n",
       "4          T            358  "
      ]
     },
     "execution_count": 89,
     "metadata": {},
     "output_type": "execute_result"
    }
   ],
   "source": [
    "df.head()"
   ]
  },
  {
   "cell_type": "markdown",
   "metadata": {},
   "source": [
    "## Read Json to CSV"
   ]
  },
  {
   "cell_type": "code",
   "execution_count": 93,
   "metadata": {},
   "outputs": [
    {
     "data": {
      "text/html": [
       "<div>\n",
       "<style scoped>\n",
       "    .dataframe tbody tr th:only-of-type {\n",
       "        vertical-align: middle;\n",
       "    }\n",
       "\n",
       "    .dataframe tbody tr th {\n",
       "        vertical-align: top;\n",
       "    }\n",
       "\n",
       "    .dataframe thead th {\n",
       "        text-align: right;\n",
       "    }\n",
       "</style>\n",
       "<table border=\"1\" class=\"dataframe\">\n",
       "  <thead>\n",
       "    <tr style=\"text-align: right;\">\n",
       "      <th></th>\n",
       "      <th>employee_name</th>\n",
       "      <th>email</th>\n",
       "      <th>job_profile</th>\n",
       "    </tr>\n",
       "  </thead>\n",
       "  <tbody>\n",
       "    <tr>\n",
       "      <th>0</th>\n",
       "      <td>Sayeli</td>\n",
       "      <td>sayelichakraborty@gmail.com</td>\n",
       "      <td>{'title1': 'Zonal Business Analyst', 'title2':...</td>\n",
       "    </tr>\n",
       "  </tbody>\n",
       "</table>\n",
       "</div>"
      ],
      "text/plain": [
       "  employee_name                        email  \\\n",
       "0        Sayeli  sayelichakraborty@gmail.com   \n",
       "\n",
       "                                         job_profile  \n",
       "0  {'title1': 'Zonal Business Analyst', 'title2':...  "
      ]
     },
     "execution_count": 93,
     "metadata": {},
     "output_type": "execute_result"
    }
   ],
   "source": [
    "Data = '{\"employee_name\": \"Sayeli\", \"email\": \"sayelichakraborty@gmail.com\", \"job_profile\": [{\"title1\":\"Zonal Business Analyst\", \"title2\":\"Sr. Executive\"}]}'\n",
    "df5= pd.read_json(Data)\n",
    "df5"
   ]
  },
  {
   "cell_type": "code",
   "execution_count": 96,
   "metadata": {},
   "outputs": [
    {
     "data": {
      "text/plain": [
       "'{\"employee_name\":{\"0\":\"Sayeli\"},\"email\":{\"0\":\"sayelichakraborty@gmail.com\"},\"job_profile\":{\"0\":{\"title1\":\"Zonal Business Analyst\",\"title2\":\"Sr. Executive\"}}}'"
      ]
     },
     "execution_count": 96,
     "metadata": {},
     "output_type": "execute_result"
    }
   ],
   "source": [
    "df5.to_json()"
   ]
  },
  {
   "cell_type": "code",
   "execution_count": 95,
   "metadata": {},
   "outputs": [
    {
     "data": {
      "text/plain": [
       "'[{\"employee_name\":\"Sayeli\",\"email\":\"sayelichakraborty@gmail.com\",\"job_profile\":{\"title1\":\"Zonal Business Analyst\",\"title2\":\"Sr. Executive\"}}]'"
      ]
     },
     "execution_count": 95,
     "metadata": {},
     "output_type": "execute_result"
    }
   ],
   "source": [
    "df5.to_json(orient=\"records\")"
   ]
  },
  {
   "cell_type": "code",
   "execution_count": 91,
   "metadata": {},
   "outputs": [],
   "source": [
    "df = pd.read_csv('https://archive.ics.uci.edu/ml/machine-learning-databases/wine/wine.data', header=None)"
   ]
  },
  {
   "cell_type": "code",
   "execution_count": 98,
   "metadata": {},
   "outputs": [],
   "source": [
    "df.to_csv(\"wine.csv\")"
   ]
  },
  {
   "cell_type": "code",
   "execution_count": 99,
   "metadata": {},
   "outputs": [
    {
     "data": {
      "text/plain": [
       "'[{\"0\":1,\"1\":14.23,\"2\":1.71,\"3\":2.43,\"4\":15.6,\"5\":127,\"6\":2.8,\"7\":3.06,\"8\":0.28,\"9\":2.29,\"10\":5.64,\"11\":1.04,\"12\":3.92,\"13\":1065},{\"0\":1,\"1\":13.2,\"2\":1.78,\"3\":2.14,\"4\":11.2,\"5\":100,\"6\":2.65,\"7\":2.76,\"8\":0.26,\"9\":1.28,\"10\":4.38,\"11\":1.05,\"12\":3.4,\"13\":1050},{\"0\":1,\"1\":13.16,\"2\":2.36,\"3\":2.67,\"4\":18.6,\"5\":101,\"6\":2.8,\"7\":3.24,\"8\":0.3,\"9\":2.81,\"10\":5.68,\"11\":1.03,\"12\":3.17,\"13\":1185},{\"0\":1,\"1\":14.37,\"2\":1.95,\"3\":2.5,\"4\":16.8,\"5\":113,\"6\":3.85,\"7\":3.49,\"8\":0.24,\"9\":2.18,\"10\":7.8,\"11\":0.86,\"12\":3.45,\"13\":1480},{\"0\":1,\"1\":13.24,\"2\":2.59,\"3\":2.87,\"4\":21.0,\"5\":118,\"6\":2.8,\"7\":2.69,\"8\":0.39,\"9\":1.82,\"10\":4.32,\"11\":1.04,\"12\":2.93,\"13\":735},{\"0\":1,\"1\":14.2,\"2\":1.76,\"3\":2.45,\"4\":15.2,\"5\":112,\"6\":3.27,\"7\":3.39,\"8\":0.34,\"9\":1.97,\"10\":6.75,\"11\":1.05,\"12\":2.85,\"13\":1450},{\"0\":1,\"1\":14.39,\"2\":1.87,\"3\":2.45,\"4\":14.6,\"5\":96,\"6\":2.5,\"7\":2.52,\"8\":0.3,\"9\":1.98,\"10\":5.25,\"11\":1.02,\"12\":3.58,\"13\":1290},{\"0\":1,\"1\":14.06,\"2\":2.15,\"3\":2.61,\"4\":17.6,\"5\":121,\"6\":2.6,\"7\":2.51,\"8\":0.31,\"9\":1.25,\"10\":5.05,\"11\":1.06,\"12\":3.58,\"13\":1295},{\"0\":1,\"1\":14.83,\"2\":1.64,\"3\":2.17,\"4\":14.0,\"5\":97,\"6\":2.8,\"7\":2.98,\"8\":0.29,\"9\":1.98,\"10\":5.2,\"11\":1.08,\"12\":2.85,\"13\":1045},{\"0\":1,\"1\":13.86,\"2\":1.35,\"3\":2.27,\"4\":16.0,\"5\":98,\"6\":2.98,\"7\":3.15,\"8\":0.22,\"9\":1.85,\"10\":7.22,\"11\":1.01,\"12\":3.55,\"13\":1045},{\"0\":1,\"1\":14.1,\"2\":2.16,\"3\":2.3,\"4\":18.0,\"5\":105,\"6\":2.95,\"7\":3.32,\"8\":0.22,\"9\":2.38,\"10\":5.75,\"11\":1.25,\"12\":3.17,\"13\":1510},{\"0\":1,\"1\":14.12,\"2\":1.48,\"3\":2.32,\"4\":16.8,\"5\":95,\"6\":2.2,\"7\":2.43,\"8\":0.26,\"9\":1.57,\"10\":5.0,\"11\":1.17,\"12\":2.82,\"13\":1280},{\"0\":1,\"1\":13.75,\"2\":1.73,\"3\":2.41,\"4\":16.0,\"5\":89,\"6\":2.6,\"7\":2.76,\"8\":0.29,\"9\":1.81,\"10\":5.6,\"11\":1.15,\"12\":2.9,\"13\":1320},{\"0\":1,\"1\":14.75,\"2\":1.73,\"3\":2.39,\"4\":11.4,\"5\":91,\"6\":3.1,\"7\":3.69,\"8\":0.43,\"9\":2.81,\"10\":5.4,\"11\":1.25,\"12\":2.73,\"13\":1150},{\"0\":1,\"1\":14.38,\"2\":1.87,\"3\":2.38,\"4\":12.0,\"5\":102,\"6\":3.3,\"7\":3.64,\"8\":0.29,\"9\":2.96,\"10\":7.5,\"11\":1.2,\"12\":3.0,\"13\":1547},{\"0\":1,\"1\":13.63,\"2\":1.81,\"3\":2.7,\"4\":17.2,\"5\":112,\"6\":2.85,\"7\":2.91,\"8\":0.3,\"9\":1.46,\"10\":7.3,\"11\":1.28,\"12\":2.88,\"13\":1310},{\"0\":1,\"1\":14.3,\"2\":1.92,\"3\":2.72,\"4\":20.0,\"5\":120,\"6\":2.8,\"7\":3.14,\"8\":0.33,\"9\":1.97,\"10\":6.2,\"11\":1.07,\"12\":2.65,\"13\":1280},{\"0\":1,\"1\":13.83,\"2\":1.57,\"3\":2.62,\"4\":20.0,\"5\":115,\"6\":2.95,\"7\":3.4,\"8\":0.4,\"9\":1.72,\"10\":6.6,\"11\":1.13,\"12\":2.57,\"13\":1130},{\"0\":1,\"1\":14.19,\"2\":1.59,\"3\":2.48,\"4\":16.5,\"5\":108,\"6\":3.3,\"7\":3.93,\"8\":0.32,\"9\":1.86,\"10\":8.7,\"11\":1.23,\"12\":2.82,\"13\":1680},{\"0\":1,\"1\":13.64,\"2\":3.1,\"3\":2.56,\"4\":15.2,\"5\":116,\"6\":2.7,\"7\":3.03,\"8\":0.17,\"9\":1.66,\"10\":5.1,\"11\":0.96,\"12\":3.36,\"13\":845},{\"0\":1,\"1\":14.06,\"2\":1.63,\"3\":2.28,\"4\":16.0,\"5\":126,\"6\":3.0,\"7\":3.17,\"8\":0.24,\"9\":2.1,\"10\":5.65,\"11\":1.09,\"12\":3.71,\"13\":780},{\"0\":1,\"1\":12.93,\"2\":3.8,\"3\":2.65,\"4\":18.6,\"5\":102,\"6\":2.41,\"7\":2.41,\"8\":0.25,\"9\":1.98,\"10\":4.5,\"11\":1.03,\"12\":3.52,\"13\":770},{\"0\":1,\"1\":13.71,\"2\":1.86,\"3\":2.36,\"4\":16.6,\"5\":101,\"6\":2.61,\"7\":2.88,\"8\":0.27,\"9\":1.69,\"10\":3.8,\"11\":1.11,\"12\":4.0,\"13\":1035},{\"0\":1,\"1\":12.85,\"2\":1.6,\"3\":2.52,\"4\":17.8,\"5\":95,\"6\":2.48,\"7\":2.37,\"8\":0.26,\"9\":1.46,\"10\":3.93,\"11\":1.09,\"12\":3.63,\"13\":1015},{\"0\":1,\"1\":13.5,\"2\":1.81,\"3\":2.61,\"4\":20.0,\"5\":96,\"6\":2.53,\"7\":2.61,\"8\":0.28,\"9\":1.66,\"10\":3.52,\"11\":1.12,\"12\":3.82,\"13\":845},{\"0\":1,\"1\":13.05,\"2\":2.05,\"3\":3.22,\"4\":25.0,\"5\":124,\"6\":2.63,\"7\":2.68,\"8\":0.47,\"9\":1.92,\"10\":3.58,\"11\":1.13,\"12\":3.2,\"13\":830},{\"0\":1,\"1\":13.39,\"2\":1.77,\"3\":2.62,\"4\":16.1,\"5\":93,\"6\":2.85,\"7\":2.94,\"8\":0.34,\"9\":1.45,\"10\":4.8,\"11\":0.92,\"12\":3.22,\"13\":1195},{\"0\":1,\"1\":13.3,\"2\":1.72,\"3\":2.14,\"4\":17.0,\"5\":94,\"6\":2.4,\"7\":2.19,\"8\":0.27,\"9\":1.35,\"10\":3.95,\"11\":1.02,\"12\":2.77,\"13\":1285},{\"0\":1,\"1\":13.87,\"2\":1.9,\"3\":2.8,\"4\":19.4,\"5\":107,\"6\":2.95,\"7\":2.97,\"8\":0.37,\"9\":1.76,\"10\":4.5,\"11\":1.25,\"12\":3.4,\"13\":915},{\"0\":1,\"1\":14.02,\"2\":1.68,\"3\":2.21,\"4\":16.0,\"5\":96,\"6\":2.65,\"7\":2.33,\"8\":0.26,\"9\":1.98,\"10\":4.7,\"11\":1.04,\"12\":3.59,\"13\":1035},{\"0\":1,\"1\":13.73,\"2\":1.5,\"3\":2.7,\"4\":22.5,\"5\":101,\"6\":3.0,\"7\":3.25,\"8\":0.29,\"9\":2.38,\"10\":5.7,\"11\":1.19,\"12\":2.71,\"13\":1285},{\"0\":1,\"1\":13.58,\"2\":1.66,\"3\":2.36,\"4\":19.1,\"5\":106,\"6\":2.86,\"7\":3.19,\"8\":0.22,\"9\":1.95,\"10\":6.9,\"11\":1.09,\"12\":2.88,\"13\":1515},{\"0\":1,\"1\":13.68,\"2\":1.83,\"3\":2.36,\"4\":17.2,\"5\":104,\"6\":2.42,\"7\":2.69,\"8\":0.42,\"9\":1.97,\"10\":3.84,\"11\":1.23,\"12\":2.87,\"13\":990},{\"0\":1,\"1\":13.76,\"2\":1.53,\"3\":2.7,\"4\":19.5,\"5\":132,\"6\":2.95,\"7\":2.74,\"8\":0.5,\"9\":1.35,\"10\":5.4,\"11\":1.25,\"12\":3.0,\"13\":1235},{\"0\":1,\"1\":13.51,\"2\":1.8,\"3\":2.65,\"4\":19.0,\"5\":110,\"6\":2.35,\"7\":2.53,\"8\":0.29,\"9\":1.54,\"10\":4.2,\"11\":1.1,\"12\":2.87,\"13\":1095},{\"0\":1,\"1\":13.48,\"2\":1.81,\"3\":2.41,\"4\":20.5,\"5\":100,\"6\":2.7,\"7\":2.98,\"8\":0.26,\"9\":1.86,\"10\":5.1,\"11\":1.04,\"12\":3.47,\"13\":920},{\"0\":1,\"1\":13.28,\"2\":1.64,\"3\":2.84,\"4\":15.5,\"5\":110,\"6\":2.6,\"7\":2.68,\"8\":0.34,\"9\":1.36,\"10\":4.6,\"11\":1.09,\"12\":2.78,\"13\":880},{\"0\":1,\"1\":13.05,\"2\":1.65,\"3\":2.55,\"4\":18.0,\"5\":98,\"6\":2.45,\"7\":2.43,\"8\":0.29,\"9\":1.44,\"10\":4.25,\"11\":1.12,\"12\":2.51,\"13\":1105},{\"0\":1,\"1\":13.07,\"2\":1.5,\"3\":2.1,\"4\":15.5,\"5\":98,\"6\":2.4,\"7\":2.64,\"8\":0.28,\"9\":1.37,\"10\":3.7,\"11\":1.18,\"12\":2.69,\"13\":1020},{\"0\":1,\"1\":14.22,\"2\":3.99,\"3\":2.51,\"4\":13.2,\"5\":128,\"6\":3.0,\"7\":3.04,\"8\":0.2,\"9\":2.08,\"10\":5.1,\"11\":0.89,\"12\":3.53,\"13\":760},{\"0\":1,\"1\":13.56,\"2\":1.71,\"3\":2.31,\"4\":16.2,\"5\":117,\"6\":3.15,\"7\":3.29,\"8\":0.34,\"9\":2.34,\"10\":6.13,\"11\":0.95,\"12\":3.38,\"13\":795},{\"0\":1,\"1\":13.41,\"2\":3.84,\"3\":2.12,\"4\":18.8,\"5\":90,\"6\":2.45,\"7\":2.68,\"8\":0.27,\"9\":1.48,\"10\":4.28,\"11\":0.91,\"12\":3.0,\"13\":1035},{\"0\":1,\"1\":13.88,\"2\":1.89,\"3\":2.59,\"4\":15.0,\"5\":101,\"6\":3.25,\"7\":3.56,\"8\":0.17,\"9\":1.7,\"10\":5.43,\"11\":0.88,\"12\":3.56,\"13\":1095},{\"0\":1,\"1\":13.24,\"2\":3.98,\"3\":2.29,\"4\":17.5,\"5\":103,\"6\":2.64,\"7\":2.63,\"8\":0.32,\"9\":1.66,\"10\":4.36,\"11\":0.82,\"12\":3.0,\"13\":680},{\"0\":1,\"1\":13.05,\"2\":1.77,\"3\":2.1,\"4\":17.0,\"5\":107,\"6\":3.0,\"7\":3.0,\"8\":0.28,\"9\":2.03,\"10\":5.04,\"11\":0.88,\"12\":3.35,\"13\":885},{\"0\":1,\"1\":14.21,\"2\":4.04,\"3\":2.44,\"4\":18.9,\"5\":111,\"6\":2.85,\"7\":2.65,\"8\":0.3,\"9\":1.25,\"10\":5.24,\"11\":0.87,\"12\":3.33,\"13\":1080},{\"0\":1,\"1\":14.38,\"2\":3.59,\"3\":2.28,\"4\":16.0,\"5\":102,\"6\":3.25,\"7\":3.17,\"8\":0.27,\"9\":2.19,\"10\":4.9,\"11\":1.04,\"12\":3.44,\"13\":1065},{\"0\":1,\"1\":13.9,\"2\":1.68,\"3\":2.12,\"4\":16.0,\"5\":101,\"6\":3.1,\"7\":3.39,\"8\":0.21,\"9\":2.14,\"10\":6.1,\"11\":0.91,\"12\":3.33,\"13\":985},{\"0\":1,\"1\":14.1,\"2\":2.02,\"3\":2.4,\"4\":18.8,\"5\":103,\"6\":2.75,\"7\":2.92,\"8\":0.32,\"9\":2.38,\"10\":6.2,\"11\":1.07,\"12\":2.75,\"13\":1060},{\"0\":1,\"1\":13.94,\"2\":1.73,\"3\":2.27,\"4\":17.4,\"5\":108,\"6\":2.88,\"7\":3.54,\"8\":0.32,\"9\":2.08,\"10\":8.9,\"11\":1.12,\"12\":3.1,\"13\":1260},{\"0\":1,\"1\":13.05,\"2\":1.73,\"3\":2.04,\"4\":12.4,\"5\":92,\"6\":2.72,\"7\":3.27,\"8\":0.17,\"9\":2.91,\"10\":7.2,\"11\":1.12,\"12\":2.91,\"13\":1150},{\"0\":1,\"1\":13.83,\"2\":1.65,\"3\":2.6,\"4\":17.2,\"5\":94,\"6\":2.45,\"7\":2.99,\"8\":0.22,\"9\":2.29,\"10\":5.6,\"11\":1.24,\"12\":3.37,\"13\":1265},{\"0\":1,\"1\":13.82,\"2\":1.75,\"3\":2.42,\"4\":14.0,\"5\":111,\"6\":3.88,\"7\":3.74,\"8\":0.32,\"9\":1.87,\"10\":7.05,\"11\":1.01,\"12\":3.26,\"13\":1190},{\"0\":1,\"1\":13.77,\"2\":1.9,\"3\":2.68,\"4\":17.1,\"5\":115,\"6\":3.0,\"7\":2.79,\"8\":0.39,\"9\":1.68,\"10\":6.3,\"11\":1.13,\"12\":2.93,\"13\":1375},{\"0\":1,\"1\":13.74,\"2\":1.67,\"3\":2.25,\"4\":16.4,\"5\":118,\"6\":2.6,\"7\":2.9,\"8\":0.21,\"9\":1.62,\"10\":5.85,\"11\":0.92,\"12\":3.2,\"13\":1060},{\"0\":1,\"1\":13.56,\"2\":1.73,\"3\":2.46,\"4\":20.5,\"5\":116,\"6\":2.96,\"7\":2.78,\"8\":0.2,\"9\":2.45,\"10\":6.25,\"11\":0.98,\"12\":3.03,\"13\":1120},{\"0\":1,\"1\":14.22,\"2\":1.7,\"3\":2.3,\"4\":16.3,\"5\":118,\"6\":3.2,\"7\":3.0,\"8\":0.26,\"9\":2.03,\"10\":6.38,\"11\":0.94,\"12\":3.31,\"13\":970},{\"0\":1,\"1\":13.29,\"2\":1.97,\"3\":2.68,\"4\":16.8,\"5\":102,\"6\":3.0,\"7\":3.23,\"8\":0.31,\"9\":1.66,\"10\":6.0,\"11\":1.07,\"12\":2.84,\"13\":1270},{\"0\":1,\"1\":13.72,\"2\":1.43,\"3\":2.5,\"4\":16.7,\"5\":108,\"6\":3.4,\"7\":3.67,\"8\":0.19,\"9\":2.04,\"10\":6.8,\"11\":0.89,\"12\":2.87,\"13\":1285},{\"0\":2,\"1\":12.37,\"2\":0.94,\"3\":1.36,\"4\":10.6,\"5\":88,\"6\":1.98,\"7\":0.57,\"8\":0.28,\"9\":0.42,\"10\":1.95,\"11\":1.05,\"12\":1.82,\"13\":520},{\"0\":2,\"1\":12.33,\"2\":1.1,\"3\":2.28,\"4\":16.0,\"5\":101,\"6\":2.05,\"7\":1.09,\"8\":0.63,\"9\":0.41,\"10\":3.27,\"11\":1.25,\"12\":1.67,\"13\":680},{\"0\":2,\"1\":12.64,\"2\":1.36,\"3\":2.02,\"4\":16.8,\"5\":100,\"6\":2.02,\"7\":1.41,\"8\":0.53,\"9\":0.62,\"10\":5.75,\"11\":0.98,\"12\":1.59,\"13\":450},{\"0\":2,\"1\":13.67,\"2\":1.25,\"3\":1.92,\"4\":18.0,\"5\":94,\"6\":2.1,\"7\":1.79,\"8\":0.32,\"9\":0.73,\"10\":3.8,\"11\":1.23,\"12\":2.46,\"13\":630},{\"0\":2,\"1\":12.37,\"2\":1.13,\"3\":2.16,\"4\":19.0,\"5\":87,\"6\":3.5,\"7\":3.1,\"8\":0.19,\"9\":1.87,\"10\":4.45,\"11\":1.22,\"12\":2.87,\"13\":420},{\"0\":2,\"1\":12.17,\"2\":1.45,\"3\":2.53,\"4\":19.0,\"5\":104,\"6\":1.89,\"7\":1.75,\"8\":0.45,\"9\":1.03,\"10\":2.95,\"11\":1.45,\"12\":2.23,\"13\":355},{\"0\":2,\"1\":12.37,\"2\":1.21,\"3\":2.56,\"4\":18.1,\"5\":98,\"6\":2.42,\"7\":2.65,\"8\":0.37,\"9\":2.08,\"10\":4.6,\"11\":1.19,\"12\":2.3,\"13\":678},{\"0\":2,\"1\":13.11,\"2\":1.01,\"3\":1.7,\"4\":15.0,\"5\":78,\"6\":2.98,\"7\":3.18,\"8\":0.26,\"9\":2.28,\"10\":5.3,\"11\":1.12,\"12\":3.18,\"13\":502},{\"0\":2,\"1\":12.37,\"2\":1.17,\"3\":1.92,\"4\":19.6,\"5\":78,\"6\":2.11,\"7\":2.0,\"8\":0.27,\"9\":1.04,\"10\":4.68,\"11\":1.12,\"12\":3.48,\"13\":510},{\"0\":2,\"1\":13.34,\"2\":0.94,\"3\":2.36,\"4\":17.0,\"5\":110,\"6\":2.53,\"7\":1.3,\"8\":0.55,\"9\":0.42,\"10\":3.17,\"11\":1.02,\"12\":1.93,\"13\":750},{\"0\":2,\"1\":12.21,\"2\":1.19,\"3\":1.75,\"4\":16.8,\"5\":151,\"6\":1.85,\"7\":1.28,\"8\":0.14,\"9\":2.5,\"10\":2.85,\"11\":1.28,\"12\":3.07,\"13\":718},{\"0\":2,\"1\":12.29,\"2\":1.61,\"3\":2.21,\"4\":20.4,\"5\":103,\"6\":1.1,\"7\":1.02,\"8\":0.37,\"9\":1.46,\"10\":3.05,\"11\":0.906,\"12\":1.82,\"13\":870},{\"0\":2,\"1\":13.86,\"2\":1.51,\"3\":2.67,\"4\":25.0,\"5\":86,\"6\":2.95,\"7\":2.86,\"8\":0.21,\"9\":1.87,\"10\":3.38,\"11\":1.36,\"12\":3.16,\"13\":410},{\"0\":2,\"1\":13.49,\"2\":1.66,\"3\":2.24,\"4\":24.0,\"5\":87,\"6\":1.88,\"7\":1.84,\"8\":0.27,\"9\":1.03,\"10\":3.74,\"11\":0.98,\"12\":2.78,\"13\":472},{\"0\":2,\"1\":12.99,\"2\":1.67,\"3\":2.6,\"4\":30.0,\"5\":139,\"6\":3.3,\"7\":2.89,\"8\":0.21,\"9\":1.96,\"10\":3.35,\"11\":1.31,\"12\":3.5,\"13\":985},{\"0\":2,\"1\":11.96,\"2\":1.09,\"3\":2.3,\"4\":21.0,\"5\":101,\"6\":3.38,\"7\":2.14,\"8\":0.13,\"9\":1.65,\"10\":3.21,\"11\":0.99,\"12\":3.13,\"13\":886},{\"0\":2,\"1\":11.66,\"2\":1.88,\"3\":1.92,\"4\":16.0,\"5\":97,\"6\":1.61,\"7\":1.57,\"8\":0.34,\"9\":1.15,\"10\":3.8,\"11\":1.23,\"12\":2.14,\"13\":428},{\"0\":2,\"1\":13.03,\"2\":0.9,\"3\":1.71,\"4\":16.0,\"5\":86,\"6\":1.95,\"7\":2.03,\"8\":0.24,\"9\":1.46,\"10\":4.6,\"11\":1.19,\"12\":2.48,\"13\":392},{\"0\":2,\"1\":11.84,\"2\":2.89,\"3\":2.23,\"4\":18.0,\"5\":112,\"6\":1.72,\"7\":1.32,\"8\":0.43,\"9\":0.95,\"10\":2.65,\"11\":0.96,\"12\":2.52,\"13\":500},{\"0\":2,\"1\":12.33,\"2\":0.99,\"3\":1.95,\"4\":14.8,\"5\":136,\"6\":1.9,\"7\":1.85,\"8\":0.35,\"9\":2.76,\"10\":3.4,\"11\":1.06,\"12\":2.31,\"13\":750},{\"0\":2,\"1\":12.7,\"2\":3.87,\"3\":2.4,\"4\":23.0,\"5\":101,\"6\":2.83,\"7\":2.55,\"8\":0.43,\"9\":1.95,\"10\":2.57,\"11\":1.19,\"12\":3.13,\"13\":463},{\"0\":2,\"1\":12.0,\"2\":0.92,\"3\":2.0,\"4\":19.0,\"5\":86,\"6\":2.42,\"7\":2.26,\"8\":0.3,\"9\":1.43,\"10\":2.5,\"11\":1.38,\"12\":3.12,\"13\":278},{\"0\":2,\"1\":12.72,\"2\":1.81,\"3\":2.2,\"4\":18.8,\"5\":86,\"6\":2.2,\"7\":2.53,\"8\":0.26,\"9\":1.77,\"10\":3.9,\"11\":1.16,\"12\":3.14,\"13\":714},{\"0\":2,\"1\":12.08,\"2\":1.13,\"3\":2.51,\"4\":24.0,\"5\":78,\"6\":2.0,\"7\":1.58,\"8\":0.4,\"9\":1.4,\"10\":2.2,\"11\":1.31,\"12\":2.72,\"13\":630},{\"0\":2,\"1\":13.05,\"2\":3.86,\"3\":2.32,\"4\":22.5,\"5\":85,\"6\":1.65,\"7\":1.59,\"8\":0.61,\"9\":1.62,\"10\":4.8,\"11\":0.84,\"12\":2.01,\"13\":515},{\"0\":2,\"1\":11.84,\"2\":0.89,\"3\":2.58,\"4\":18.0,\"5\":94,\"6\":2.2,\"7\":2.21,\"8\":0.22,\"9\":2.35,\"10\":3.05,\"11\":0.79,\"12\":3.08,\"13\":520},{\"0\":2,\"1\":12.67,\"2\":0.98,\"3\":2.24,\"4\":18.0,\"5\":99,\"6\":2.2,\"7\":1.94,\"8\":0.3,\"9\":1.46,\"10\":2.62,\"11\":1.23,\"12\":3.16,\"13\":450},{\"0\":2,\"1\":12.16,\"2\":1.61,\"3\":2.31,\"4\":22.8,\"5\":90,\"6\":1.78,\"7\":1.69,\"8\":0.43,\"9\":1.56,\"10\":2.45,\"11\":1.33,\"12\":2.26,\"13\":495},{\"0\":2,\"1\":11.65,\"2\":1.67,\"3\":2.62,\"4\":26.0,\"5\":88,\"6\":1.92,\"7\":1.61,\"8\":0.4,\"9\":1.34,\"10\":2.6,\"11\":1.36,\"12\":3.21,\"13\":562},{\"0\":2,\"1\":11.64,\"2\":2.06,\"3\":2.46,\"4\":21.6,\"5\":84,\"6\":1.95,\"7\":1.69,\"8\":0.48,\"9\":1.35,\"10\":2.8,\"11\":1.0,\"12\":2.75,\"13\":680},{\"0\":2,\"1\":12.08,\"2\":1.33,\"3\":2.3,\"4\":23.6,\"5\":70,\"6\":2.2,\"7\":1.59,\"8\":0.42,\"9\":1.38,\"10\":1.74,\"11\":1.07,\"12\":3.21,\"13\":625},{\"0\":2,\"1\":12.08,\"2\":1.83,\"3\":2.32,\"4\":18.5,\"5\":81,\"6\":1.6,\"7\":1.5,\"8\":0.52,\"9\":1.64,\"10\":2.4,\"11\":1.08,\"12\":2.27,\"13\":480},{\"0\":2,\"1\":12.0,\"2\":1.51,\"3\":2.42,\"4\":22.0,\"5\":86,\"6\":1.45,\"7\":1.25,\"8\":0.5,\"9\":1.63,\"10\":3.6,\"11\":1.05,\"12\":2.65,\"13\":450},{\"0\":2,\"1\":12.69,\"2\":1.53,\"3\":2.26,\"4\":20.7,\"5\":80,\"6\":1.38,\"7\":1.46,\"8\":0.58,\"9\":1.62,\"10\":3.05,\"11\":0.96,\"12\":2.06,\"13\":495},{\"0\":2,\"1\":12.29,\"2\":2.83,\"3\":2.22,\"4\":18.0,\"5\":88,\"6\":2.45,\"7\":2.25,\"8\":0.25,\"9\":1.99,\"10\":2.15,\"11\":1.15,\"12\":3.3,\"13\":290},{\"0\":2,\"1\":11.62,\"2\":1.99,\"3\":2.28,\"4\":18.0,\"5\":98,\"6\":3.02,\"7\":2.26,\"8\":0.17,\"9\":1.35,\"10\":3.25,\"11\":1.16,\"12\":2.96,\"13\":345},{\"0\":2,\"1\":12.47,\"2\":1.52,\"3\":2.2,\"4\":19.0,\"5\":162,\"6\":2.5,\"7\":2.27,\"8\":0.32,\"9\":3.28,\"10\":2.6,\"11\":1.16,\"12\":2.63,\"13\":937},{\"0\":2,\"1\":11.81,\"2\":2.12,\"3\":2.74,\"4\":21.5,\"5\":134,\"6\":1.6,\"7\":0.99,\"8\":0.14,\"9\":1.56,\"10\":2.5,\"11\":0.95,\"12\":2.26,\"13\":625},{\"0\":2,\"1\":12.29,\"2\":1.41,\"3\":1.98,\"4\":16.0,\"5\":85,\"6\":2.55,\"7\":2.5,\"8\":0.29,\"9\":1.77,\"10\":2.9,\"11\":1.23,\"12\":2.74,\"13\":428},{\"0\":2,\"1\":12.37,\"2\":1.07,\"3\":2.1,\"4\":18.5,\"5\":88,\"6\":3.52,\"7\":3.75,\"8\":0.24,\"9\":1.95,\"10\":4.5,\"11\":1.04,\"12\":2.77,\"13\":660},{\"0\":2,\"1\":12.29,\"2\":3.17,\"3\":2.21,\"4\":18.0,\"5\":88,\"6\":2.85,\"7\":2.99,\"8\":0.45,\"9\":2.81,\"10\":2.3,\"11\":1.42,\"12\":2.83,\"13\":406},{\"0\":2,\"1\":12.08,\"2\":2.08,\"3\":1.7,\"4\":17.5,\"5\":97,\"6\":2.23,\"7\":2.17,\"8\":0.26,\"9\":1.4,\"10\":3.3,\"11\":1.27,\"12\":2.96,\"13\":710},{\"0\":2,\"1\":12.6,\"2\":1.34,\"3\":1.9,\"4\":18.5,\"5\":88,\"6\":1.45,\"7\":1.36,\"8\":0.29,\"9\":1.35,\"10\":2.45,\"11\":1.04,\"12\":2.77,\"13\":562},{\"0\":2,\"1\":12.34,\"2\":2.45,\"3\":2.46,\"4\":21.0,\"5\":98,\"6\":2.56,\"7\":2.11,\"8\":0.34,\"9\":1.31,\"10\":2.8,\"11\":0.8,\"12\":3.38,\"13\":438},{\"0\":2,\"1\":11.82,\"2\":1.72,\"3\":1.88,\"4\":19.5,\"5\":86,\"6\":2.5,\"7\":1.64,\"8\":0.37,\"9\":1.42,\"10\":2.06,\"11\":0.94,\"12\":2.44,\"13\":415},{\"0\":2,\"1\":12.51,\"2\":1.73,\"3\":1.98,\"4\":20.5,\"5\":85,\"6\":2.2,\"7\":1.92,\"8\":0.32,\"9\":1.48,\"10\":2.94,\"11\":1.04,\"12\":3.57,\"13\":672},{\"0\":2,\"1\":12.42,\"2\":2.55,\"3\":2.27,\"4\":22.0,\"5\":90,\"6\":1.68,\"7\":1.84,\"8\":0.66,\"9\":1.42,\"10\":2.7,\"11\":0.86,\"12\":3.3,\"13\":315},{\"0\":2,\"1\":12.25,\"2\":1.73,\"3\":2.12,\"4\":19.0,\"5\":80,\"6\":1.65,\"7\":2.03,\"8\":0.37,\"9\":1.63,\"10\":3.4,\"11\":1.0,\"12\":3.17,\"13\":510},{\"0\":2,\"1\":12.72,\"2\":1.75,\"3\":2.28,\"4\":22.5,\"5\":84,\"6\":1.38,\"7\":1.76,\"8\":0.48,\"9\":1.63,\"10\":3.3,\"11\":0.88,\"12\":2.42,\"13\":488},{\"0\":2,\"1\":12.22,\"2\":1.29,\"3\":1.94,\"4\":19.0,\"5\":92,\"6\":2.36,\"7\":2.04,\"8\":0.39,\"9\":2.08,\"10\":2.7,\"11\":0.86,\"12\":3.02,\"13\":312},{\"0\":2,\"1\":11.61,\"2\":1.35,\"3\":2.7,\"4\":20.0,\"5\":94,\"6\":2.74,\"7\":2.92,\"8\":0.29,\"9\":2.49,\"10\":2.65,\"11\":0.96,\"12\":3.26,\"13\":680},{\"0\":2,\"1\":11.46,\"2\":3.74,\"3\":1.82,\"4\":19.5,\"5\":107,\"6\":3.18,\"7\":2.58,\"8\":0.24,\"9\":3.58,\"10\":2.9,\"11\":0.75,\"12\":2.81,\"13\":562},{\"0\":2,\"1\":12.52,\"2\":2.43,\"3\":2.17,\"4\":21.0,\"5\":88,\"6\":2.55,\"7\":2.27,\"8\":0.26,\"9\":1.22,\"10\":2.0,\"11\":0.9,\"12\":2.78,\"13\":325},{\"0\":2,\"1\":11.76,\"2\":2.68,\"3\":2.92,\"4\":20.0,\"5\":103,\"6\":1.75,\"7\":2.03,\"8\":0.6,\"9\":1.05,\"10\":3.8,\"11\":1.23,\"12\":2.5,\"13\":607},{\"0\":2,\"1\":11.41,\"2\":0.74,\"3\":2.5,\"4\":21.0,\"5\":88,\"6\":2.48,\"7\":2.01,\"8\":0.42,\"9\":1.44,\"10\":3.08,\"11\":1.1,\"12\":2.31,\"13\":434},{\"0\":2,\"1\":12.08,\"2\":1.39,\"3\":2.5,\"4\":22.5,\"5\":84,\"6\":2.56,\"7\":2.29,\"8\":0.43,\"9\":1.04,\"10\":2.9,\"11\":0.93,\"12\":3.19,\"13\":385},{\"0\":2,\"1\":11.03,\"2\":1.51,\"3\":2.2,\"4\":21.5,\"5\":85,\"6\":2.46,\"7\":2.17,\"8\":0.52,\"9\":2.01,\"10\":1.9,\"11\":1.71,\"12\":2.87,\"13\":407},{\"0\":2,\"1\":11.82,\"2\":1.47,\"3\":1.99,\"4\":20.8,\"5\":86,\"6\":1.98,\"7\":1.6,\"8\":0.3,\"9\":1.53,\"10\":1.95,\"11\":0.95,\"12\":3.33,\"13\":495},{\"0\":2,\"1\":12.42,\"2\":1.61,\"3\":2.19,\"4\":22.5,\"5\":108,\"6\":2.0,\"7\":2.09,\"8\":0.34,\"9\":1.61,\"10\":2.06,\"11\":1.06,\"12\":2.96,\"13\":345},{\"0\":2,\"1\":12.77,\"2\":3.43,\"3\":1.98,\"4\":16.0,\"5\":80,\"6\":1.63,\"7\":1.25,\"8\":0.43,\"9\":0.83,\"10\":3.4,\"11\":0.7,\"12\":2.12,\"13\":372},{\"0\":2,\"1\":12.0,\"2\":3.43,\"3\":2.0,\"4\":19.0,\"5\":87,\"6\":2.0,\"7\":1.64,\"8\":0.37,\"9\":1.87,\"10\":1.28,\"11\":0.93,\"12\":3.05,\"13\":564},{\"0\":2,\"1\":11.45,\"2\":2.4,\"3\":2.42,\"4\":20.0,\"5\":96,\"6\":2.9,\"7\":2.79,\"8\":0.32,\"9\":1.83,\"10\":3.25,\"11\":0.8,\"12\":3.39,\"13\":625},{\"0\":2,\"1\":11.56,\"2\":2.05,\"3\":3.23,\"4\":28.5,\"5\":119,\"6\":3.18,\"7\":5.08,\"8\":0.47,\"9\":1.87,\"10\":6.0,\"11\":0.93,\"12\":3.69,\"13\":465},{\"0\":2,\"1\":12.42,\"2\":4.43,\"3\":2.73,\"4\":26.5,\"5\":102,\"6\":2.2,\"7\":2.13,\"8\":0.43,\"9\":1.71,\"10\":2.08,\"11\":0.92,\"12\":3.12,\"13\":365},{\"0\":2,\"1\":13.05,\"2\":5.8,\"3\":2.13,\"4\":21.5,\"5\":86,\"6\":2.62,\"7\":2.65,\"8\":0.3,\"9\":2.01,\"10\":2.6,\"11\":0.73,\"12\":3.1,\"13\":380},{\"0\":2,\"1\":11.87,\"2\":4.31,\"3\":2.39,\"4\":21.0,\"5\":82,\"6\":2.86,\"7\":3.03,\"8\":0.21,\"9\":2.91,\"10\":2.8,\"11\":0.75,\"12\":3.64,\"13\":380},{\"0\":2,\"1\":12.07,\"2\":2.16,\"3\":2.17,\"4\":21.0,\"5\":85,\"6\":2.6,\"7\":2.65,\"8\":0.37,\"9\":1.35,\"10\":2.76,\"11\":0.86,\"12\":3.28,\"13\":378},{\"0\":2,\"1\":12.43,\"2\":1.53,\"3\":2.29,\"4\":21.5,\"5\":86,\"6\":2.74,\"7\":3.15,\"8\":0.39,\"9\":1.77,\"10\":3.94,\"11\":0.69,\"12\":2.84,\"13\":352},{\"0\":2,\"1\":11.79,\"2\":2.13,\"3\":2.78,\"4\":28.5,\"5\":92,\"6\":2.13,\"7\":2.24,\"8\":0.58,\"9\":1.76,\"10\":3.0,\"11\":0.97,\"12\":2.44,\"13\":466},{\"0\":2,\"1\":12.37,\"2\":1.63,\"3\":2.3,\"4\":24.5,\"5\":88,\"6\":2.22,\"7\":2.45,\"8\":0.4,\"9\":1.9,\"10\":2.12,\"11\":0.89,\"12\":2.78,\"13\":342},{\"0\":2,\"1\":12.04,\"2\":4.3,\"3\":2.38,\"4\":22.0,\"5\":80,\"6\":2.1,\"7\":1.75,\"8\":0.42,\"9\":1.35,\"10\":2.6,\"11\":0.79,\"12\":2.57,\"13\":580},{\"0\":3,\"1\":12.86,\"2\":1.35,\"3\":2.32,\"4\":18.0,\"5\":122,\"6\":1.51,\"7\":1.25,\"8\":0.21,\"9\":0.94,\"10\":4.1,\"11\":0.76,\"12\":1.29,\"13\":630},{\"0\":3,\"1\":12.88,\"2\":2.99,\"3\":2.4,\"4\":20.0,\"5\":104,\"6\":1.3,\"7\":1.22,\"8\":0.24,\"9\":0.83,\"10\":5.4,\"11\":0.74,\"12\":1.42,\"13\":530},{\"0\":3,\"1\":12.81,\"2\":2.31,\"3\":2.4,\"4\":24.0,\"5\":98,\"6\":1.15,\"7\":1.09,\"8\":0.27,\"9\":0.83,\"10\":5.7,\"11\":0.66,\"12\":1.36,\"13\":560},{\"0\":3,\"1\":12.7,\"2\":3.55,\"3\":2.36,\"4\":21.5,\"5\":106,\"6\":1.7,\"7\":1.2,\"8\":0.17,\"9\":0.84,\"10\":5.0,\"11\":0.78,\"12\":1.29,\"13\":600},{\"0\":3,\"1\":12.51,\"2\":1.24,\"3\":2.25,\"4\":17.5,\"5\":85,\"6\":2.0,\"7\":0.58,\"8\":0.6,\"9\":1.25,\"10\":5.45,\"11\":0.75,\"12\":1.51,\"13\":650},{\"0\":3,\"1\":12.6,\"2\":2.46,\"3\":2.2,\"4\":18.5,\"5\":94,\"6\":1.62,\"7\":0.66,\"8\":0.63,\"9\":0.94,\"10\":7.1,\"11\":0.73,\"12\":1.58,\"13\":695},{\"0\":3,\"1\":12.25,\"2\":4.72,\"3\":2.54,\"4\":21.0,\"5\":89,\"6\":1.38,\"7\":0.47,\"8\":0.53,\"9\":0.8,\"10\":3.85,\"11\":0.75,\"12\":1.27,\"13\":720},{\"0\":3,\"1\":12.53,\"2\":5.51,\"3\":2.64,\"4\":25.0,\"5\":96,\"6\":1.79,\"7\":0.6,\"8\":0.63,\"9\":1.1,\"10\":5.0,\"11\":0.82,\"12\":1.69,\"13\":515},{\"0\":3,\"1\":13.49,\"2\":3.59,\"3\":2.19,\"4\":19.5,\"5\":88,\"6\":1.62,\"7\":0.48,\"8\":0.58,\"9\":0.88,\"10\":5.7,\"11\":0.81,\"12\":1.82,\"13\":580},{\"0\":3,\"1\":12.84,\"2\":2.96,\"3\":2.61,\"4\":24.0,\"5\":101,\"6\":2.32,\"7\":0.6,\"8\":0.53,\"9\":0.81,\"10\":4.92,\"11\":0.89,\"12\":2.15,\"13\":590},{\"0\":3,\"1\":12.93,\"2\":2.81,\"3\":2.7,\"4\":21.0,\"5\":96,\"6\":1.54,\"7\":0.5,\"8\":0.53,\"9\":0.75,\"10\":4.6,\"11\":0.77,\"12\":2.31,\"13\":600},{\"0\":3,\"1\":13.36,\"2\":2.56,\"3\":2.35,\"4\":20.0,\"5\":89,\"6\":1.4,\"7\":0.5,\"8\":0.37,\"9\":0.64,\"10\":5.6,\"11\":0.7,\"12\":2.47,\"13\":780},{\"0\":3,\"1\":13.52,\"2\":3.17,\"3\":2.72,\"4\":23.5,\"5\":97,\"6\":1.55,\"7\":0.52,\"8\":0.5,\"9\":0.55,\"10\":4.35,\"11\":0.89,\"12\":2.06,\"13\":520},{\"0\":3,\"1\":13.62,\"2\":4.95,\"3\":2.35,\"4\":20.0,\"5\":92,\"6\":2.0,\"7\":0.8,\"8\":0.47,\"9\":1.02,\"10\":4.4,\"11\":0.91,\"12\":2.05,\"13\":550},{\"0\":3,\"1\":12.25,\"2\":3.88,\"3\":2.2,\"4\":18.5,\"5\":112,\"6\":1.38,\"7\":0.78,\"8\":0.29,\"9\":1.14,\"10\":8.21,\"11\":0.65,\"12\":2.0,\"13\":855},{\"0\":3,\"1\":13.16,\"2\":3.57,\"3\":2.15,\"4\":21.0,\"5\":102,\"6\":1.5,\"7\":0.55,\"8\":0.43,\"9\":1.3,\"10\":4.0,\"11\":0.6,\"12\":1.68,\"13\":830},{\"0\":3,\"1\":13.88,\"2\":5.04,\"3\":2.23,\"4\":20.0,\"5\":80,\"6\":0.98,\"7\":0.34,\"8\":0.4,\"9\":0.68,\"10\":4.9,\"11\":0.58,\"12\":1.33,\"13\":415},{\"0\":3,\"1\":12.87,\"2\":4.61,\"3\":2.48,\"4\":21.5,\"5\":86,\"6\":1.7,\"7\":0.65,\"8\":0.47,\"9\":0.86,\"10\":7.65,\"11\":0.54,\"12\":1.86,\"13\":625},{\"0\":3,\"1\":13.32,\"2\":3.24,\"3\":2.38,\"4\":21.5,\"5\":92,\"6\":1.93,\"7\":0.76,\"8\":0.45,\"9\":1.25,\"10\":8.42,\"11\":0.55,\"12\":1.62,\"13\":650},{\"0\":3,\"1\":13.08,\"2\":3.9,\"3\":2.36,\"4\":21.5,\"5\":113,\"6\":1.41,\"7\":1.39,\"8\":0.34,\"9\":1.14,\"10\":9.4,\"11\":0.57,\"12\":1.33,\"13\":550},{\"0\":3,\"1\":13.5,\"2\":3.12,\"3\":2.62,\"4\":24.0,\"5\":123,\"6\":1.4,\"7\":1.57,\"8\":0.22,\"9\":1.25,\"10\":8.6,\"11\":0.59,\"12\":1.3,\"13\":500},{\"0\":3,\"1\":12.79,\"2\":2.67,\"3\":2.48,\"4\":22.0,\"5\":112,\"6\":1.48,\"7\":1.36,\"8\":0.24,\"9\":1.26,\"10\":10.8,\"11\":0.48,\"12\":1.47,\"13\":480},{\"0\":3,\"1\":13.11,\"2\":1.9,\"3\":2.75,\"4\":25.5,\"5\":116,\"6\":2.2,\"7\":1.28,\"8\":0.26,\"9\":1.56,\"10\":7.1,\"11\":0.61,\"12\":1.33,\"13\":425},{\"0\":3,\"1\":13.23,\"2\":3.3,\"3\":2.28,\"4\":18.5,\"5\":98,\"6\":1.8,\"7\":0.83,\"8\":0.61,\"9\":1.87,\"10\":10.52,\"11\":0.56,\"12\":1.51,\"13\":675},{\"0\":3,\"1\":12.58,\"2\":1.29,\"3\":2.1,\"4\":20.0,\"5\":103,\"6\":1.48,\"7\":0.58,\"8\":0.53,\"9\":1.4,\"10\":7.6,\"11\":0.58,\"12\":1.55,\"13\":640},{\"0\":3,\"1\":13.17,\"2\":5.19,\"3\":2.32,\"4\":22.0,\"5\":93,\"6\":1.74,\"7\":0.63,\"8\":0.61,\"9\":1.55,\"10\":7.9,\"11\":0.6,\"12\":1.48,\"13\":725},{\"0\":3,\"1\":13.84,\"2\":4.12,\"3\":2.38,\"4\":19.5,\"5\":89,\"6\":1.8,\"7\":0.83,\"8\":0.48,\"9\":1.56,\"10\":9.01,\"11\":0.57,\"12\":1.64,\"13\":480},{\"0\":3,\"1\":12.45,\"2\":3.03,\"3\":2.64,\"4\":27.0,\"5\":97,\"6\":1.9,\"7\":0.58,\"8\":0.63,\"9\":1.14,\"10\":7.5,\"11\":0.67,\"12\":1.73,\"13\":880},{\"0\":3,\"1\":14.34,\"2\":1.68,\"3\":2.7,\"4\":25.0,\"5\":98,\"6\":2.8,\"7\":1.31,\"8\":0.53,\"9\":2.7,\"10\":13.0,\"11\":0.57,\"12\":1.96,\"13\":660},{\"0\":3,\"1\":13.48,\"2\":1.67,\"3\":2.64,\"4\":22.5,\"5\":89,\"6\":2.6,\"7\":1.1,\"8\":0.52,\"9\":2.29,\"10\":11.75,\"11\":0.57,\"12\":1.78,\"13\":620},{\"0\":3,\"1\":12.36,\"2\":3.83,\"3\":2.38,\"4\":21.0,\"5\":88,\"6\":2.3,\"7\":0.92,\"8\":0.5,\"9\":1.04,\"10\":7.65,\"11\":0.56,\"12\":1.58,\"13\":520},{\"0\":3,\"1\":13.69,\"2\":3.26,\"3\":2.54,\"4\":20.0,\"5\":107,\"6\":1.83,\"7\":0.56,\"8\":0.5,\"9\":0.8,\"10\":5.88,\"11\":0.96,\"12\":1.82,\"13\":680},{\"0\":3,\"1\":12.85,\"2\":3.27,\"3\":2.58,\"4\":22.0,\"5\":106,\"6\":1.65,\"7\":0.6,\"8\":0.6,\"9\":0.96,\"10\":5.58,\"11\":0.87,\"12\":2.11,\"13\":570},{\"0\":3,\"1\":12.96,\"2\":3.45,\"3\":2.35,\"4\":18.5,\"5\":106,\"6\":1.39,\"7\":0.7,\"8\":0.4,\"9\":0.94,\"10\":5.28,\"11\":0.68,\"12\":1.75,\"13\":675},{\"0\":3,\"1\":13.78,\"2\":2.76,\"3\":2.3,\"4\":22.0,\"5\":90,\"6\":1.35,\"7\":0.68,\"8\":0.41,\"9\":1.03,\"10\":9.58,\"11\":0.7,\"12\":1.68,\"13\":615},{\"0\":3,\"1\":13.73,\"2\":4.36,\"3\":2.26,\"4\":22.5,\"5\":88,\"6\":1.28,\"7\":0.47,\"8\":0.52,\"9\":1.15,\"10\":6.62,\"11\":0.78,\"12\":1.75,\"13\":520},{\"0\":3,\"1\":13.45,\"2\":3.7,\"3\":2.6,\"4\":23.0,\"5\":111,\"6\":1.7,\"7\":0.92,\"8\":0.43,\"9\":1.46,\"10\":10.68,\"11\":0.85,\"12\":1.56,\"13\":695},{\"0\":3,\"1\":12.82,\"2\":3.37,\"3\":2.3,\"4\":19.5,\"5\":88,\"6\":1.48,\"7\":0.66,\"8\":0.4,\"9\":0.97,\"10\":10.26,\"11\":0.72,\"12\":1.75,\"13\":685},{\"0\":3,\"1\":13.58,\"2\":2.58,\"3\":2.69,\"4\":24.5,\"5\":105,\"6\":1.55,\"7\":0.84,\"8\":0.39,\"9\":1.54,\"10\":8.66,\"11\":0.74,\"12\":1.8,\"13\":750},{\"0\":3,\"1\":13.4,\"2\":4.6,\"3\":2.86,\"4\":25.0,\"5\":112,\"6\":1.98,\"7\":0.96,\"8\":0.27,\"9\":1.11,\"10\":8.5,\"11\":0.67,\"12\":1.92,\"13\":630},{\"0\":3,\"1\":12.2,\"2\":3.03,\"3\":2.32,\"4\":19.0,\"5\":96,\"6\":1.25,\"7\":0.49,\"8\":0.4,\"9\":0.73,\"10\":5.5,\"11\":0.66,\"12\":1.83,\"13\":510},{\"0\":3,\"1\":12.77,\"2\":2.39,\"3\":2.28,\"4\":19.5,\"5\":86,\"6\":1.39,\"7\":0.51,\"8\":0.48,\"9\":0.64,\"10\":9.899999,\"11\":0.57,\"12\":1.63,\"13\":470},{\"0\":3,\"1\":14.16,\"2\":2.51,\"3\":2.48,\"4\":20.0,\"5\":91,\"6\":1.68,\"7\":0.7,\"8\":0.44,\"9\":1.24,\"10\":9.7,\"11\":0.62,\"12\":1.71,\"13\":660},{\"0\":3,\"1\":13.71,\"2\":5.65,\"3\":2.45,\"4\":20.5,\"5\":95,\"6\":1.68,\"7\":0.61,\"8\":0.52,\"9\":1.06,\"10\":7.7,\"11\":0.64,\"12\":1.74,\"13\":740},{\"0\":3,\"1\":13.4,\"2\":3.91,\"3\":2.48,\"4\":23.0,\"5\":102,\"6\":1.8,\"7\":0.75,\"8\":0.43,\"9\":1.41,\"10\":7.3,\"11\":0.7,\"12\":1.56,\"13\":750},{\"0\":3,\"1\":13.27,\"2\":4.28,\"3\":2.26,\"4\":20.0,\"5\":120,\"6\":1.59,\"7\":0.69,\"8\":0.43,\"9\":1.35,\"10\":10.2,\"11\":0.59,\"12\":1.56,\"13\":835},{\"0\":3,\"1\":13.17,\"2\":2.59,\"3\":2.37,\"4\":20.0,\"5\":120,\"6\":1.65,\"7\":0.68,\"8\":0.53,\"9\":1.46,\"10\":9.3,\"11\":0.6,\"12\":1.62,\"13\":840},{\"0\":3,\"1\":14.13,\"2\":4.1,\"3\":2.74,\"4\":24.5,\"5\":96,\"6\":2.05,\"7\":0.76,\"8\":0.56,\"9\":1.35,\"10\":9.2,\"11\":0.61,\"12\":1.6,\"13\":560}]'"
      ]
     },
     "execution_count": 99,
     "metadata": {},
     "output_type": "execute_result"
    }
   ],
   "source": [
    "df.to_json(orient=\"records\")"
   ]
  },
  {
   "cell_type": "code",
   "execution_count": 100,
   "metadata": {},
   "outputs": [],
   "source": [
    "url = 'https://www.fdic.gov/bank/individual/failed/banklist.html'\n",
    "\n",
    "dfs = pd.read_html(url)"
   ]
  },
  {
   "cell_type": "code",
   "execution_count": 103,
   "metadata": {},
   "outputs": [
    {
     "data": {
      "text/html": [
       "<div>\n",
       "<style scoped>\n",
       "    .dataframe tbody tr th:only-of-type {\n",
       "        vertical-align: middle;\n",
       "    }\n",
       "\n",
       "    .dataframe tbody tr th {\n",
       "        vertical-align: top;\n",
       "    }\n",
       "\n",
       "    .dataframe thead th {\n",
       "        text-align: right;\n",
       "    }\n",
       "</style>\n",
       "<table border=\"1\" class=\"dataframe\">\n",
       "  <thead>\n",
       "    <tr style=\"text-align: right;\">\n",
       "      <th></th>\n",
       "      <th>Bank Name</th>\n",
       "      <th>City</th>\n",
       "      <th>ST</th>\n",
       "      <th>CERT</th>\n",
       "      <th>Acquiring Institution</th>\n",
       "      <th>Closing Date</th>\n",
       "    </tr>\n",
       "  </thead>\n",
       "  <tbody>\n",
       "    <tr>\n",
       "      <th>0</th>\n",
       "      <td>The First State Bank</td>\n",
       "      <td>Barboursville</td>\n",
       "      <td>WV</td>\n",
       "      <td>14361</td>\n",
       "      <td>MVB Bank, Inc.</td>\n",
       "      <td>April 3, 2020</td>\n",
       "    </tr>\n",
       "    <tr>\n",
       "      <th>1</th>\n",
       "      <td>Ericson State Bank</td>\n",
       "      <td>Ericson</td>\n",
       "      <td>NE</td>\n",
       "      <td>18265</td>\n",
       "      <td>Farmers and Merchants Bank</td>\n",
       "      <td>February 14, 2020</td>\n",
       "    </tr>\n",
       "    <tr>\n",
       "      <th>2</th>\n",
       "      <td>City National Bank of New Jersey</td>\n",
       "      <td>Newark</td>\n",
       "      <td>NJ</td>\n",
       "      <td>21111</td>\n",
       "      <td>Industrial Bank</td>\n",
       "      <td>November 1, 2019</td>\n",
       "    </tr>\n",
       "    <tr>\n",
       "      <th>3</th>\n",
       "      <td>Resolute Bank</td>\n",
       "      <td>Maumee</td>\n",
       "      <td>OH</td>\n",
       "      <td>58317</td>\n",
       "      <td>Buckeye State Bank</td>\n",
       "      <td>October 25, 2019</td>\n",
       "    </tr>\n",
       "    <tr>\n",
       "      <th>4</th>\n",
       "      <td>Louisa Community Bank</td>\n",
       "      <td>Louisa</td>\n",
       "      <td>KY</td>\n",
       "      <td>58112</td>\n",
       "      <td>Kentucky Farmers Bank Corporation</td>\n",
       "      <td>October 25, 2019</td>\n",
       "    </tr>\n",
       "    <tr>\n",
       "      <th>...</th>\n",
       "      <td>...</td>\n",
       "      <td>...</td>\n",
       "      <td>...</td>\n",
       "      <td>...</td>\n",
       "      <td>...</td>\n",
       "      <td>...</td>\n",
       "    </tr>\n",
       "    <tr>\n",
       "      <th>556</th>\n",
       "      <td>Superior Bank, FSB</td>\n",
       "      <td>Hinsdale</td>\n",
       "      <td>IL</td>\n",
       "      <td>32646</td>\n",
       "      <td>Superior Federal, FSB</td>\n",
       "      <td>July 27, 2001</td>\n",
       "    </tr>\n",
       "    <tr>\n",
       "      <th>557</th>\n",
       "      <td>Malta National Bank</td>\n",
       "      <td>Malta</td>\n",
       "      <td>OH</td>\n",
       "      <td>6629</td>\n",
       "      <td>North Valley Bank</td>\n",
       "      <td>May 3, 2001</td>\n",
       "    </tr>\n",
       "    <tr>\n",
       "      <th>558</th>\n",
       "      <td>First Alliance Bank &amp; Trust Co.</td>\n",
       "      <td>Manchester</td>\n",
       "      <td>NH</td>\n",
       "      <td>34264</td>\n",
       "      <td>Southern New Hampshire Bank &amp; Trust</td>\n",
       "      <td>February 2, 2001</td>\n",
       "    </tr>\n",
       "    <tr>\n",
       "      <th>559</th>\n",
       "      <td>National State Bank of Metropolis</td>\n",
       "      <td>Metropolis</td>\n",
       "      <td>IL</td>\n",
       "      <td>3815</td>\n",
       "      <td>Banterra Bank of Marion</td>\n",
       "      <td>December 14, 2000</td>\n",
       "    </tr>\n",
       "    <tr>\n",
       "      <th>560</th>\n",
       "      <td>Bank of Honolulu</td>\n",
       "      <td>Honolulu</td>\n",
       "      <td>HI</td>\n",
       "      <td>21029</td>\n",
       "      <td>Bank of the Orient</td>\n",
       "      <td>October 13, 2000</td>\n",
       "    </tr>\n",
       "  </tbody>\n",
       "</table>\n",
       "<p>561 rows × 6 columns</p>\n",
       "</div>"
      ],
      "text/plain": [
       "                             Bank Name           City  ST   CERT  \\\n",
       "0                 The First State Bank  Barboursville  WV  14361   \n",
       "1                   Ericson State Bank        Ericson  NE  18265   \n",
       "2     City National Bank of New Jersey         Newark  NJ  21111   \n",
       "3                        Resolute Bank         Maumee  OH  58317   \n",
       "4                Louisa Community Bank         Louisa  KY  58112   \n",
       "..                                 ...            ...  ..    ...   \n",
       "556                 Superior Bank, FSB       Hinsdale  IL  32646   \n",
       "557                Malta National Bank          Malta  OH   6629   \n",
       "558    First Alliance Bank & Trust Co.     Manchester  NH  34264   \n",
       "559  National State Bank of Metropolis     Metropolis  IL   3815   \n",
       "560                   Bank of Honolulu       Honolulu  HI  21029   \n",
       "\n",
       "                   Acquiring Institution       Closing Date  \n",
       "0                         MVB Bank, Inc.      April 3, 2020  \n",
       "1             Farmers and Merchants Bank  February 14, 2020  \n",
       "2                        Industrial Bank   November 1, 2019  \n",
       "3                     Buckeye State Bank   October 25, 2019  \n",
       "4      Kentucky Farmers Bank Corporation   October 25, 2019  \n",
       "..                                   ...                ...  \n",
       "556                Superior Federal, FSB      July 27, 2001  \n",
       "557                    North Valley Bank        May 3, 2001  \n",
       "558  Southern New Hampshire Bank & Trust   February 2, 2001  \n",
       "559              Banterra Bank of Marion  December 14, 2000  \n",
       "560                   Bank of the Orient   October 13, 2000  \n",
       "\n",
       "[561 rows x 6 columns]"
      ]
     },
     "execution_count": 103,
     "metadata": {},
     "output_type": "execute_result"
    }
   ],
   "source": [
    "dfs[0]"
   ]
  },
  {
   "cell_type": "code",
   "execution_count": 104,
   "metadata": {},
   "outputs": [],
   "source": [
    "url_mcc = 'https://en.wikipedia.org/wiki/Mobile_country_code'\n",
    "dfs = pd.read_html(url_mcc, match='Country', header=0)"
   ]
  },
  {
   "cell_type": "code",
   "execution_count": 105,
   "metadata": {},
   "outputs": [
    {
     "data": {
      "text/html": [
       "<div>\n",
       "<style scoped>\n",
       "    .dataframe tbody tr th:only-of-type {\n",
       "        vertical-align: middle;\n",
       "    }\n",
       "\n",
       "    .dataframe tbody tr th {\n",
       "        vertical-align: top;\n",
       "    }\n",
       "\n",
       "    .dataframe thead th {\n",
       "        text-align: right;\n",
       "    }\n",
       "</style>\n",
       "<table border=\"1\" class=\"dataframe\">\n",
       "  <thead>\n",
       "    <tr style=\"text-align: right;\">\n",
       "      <th></th>\n",
       "      <th>Mobile country code</th>\n",
       "      <th>Country</th>\n",
       "      <th>ISO 3166</th>\n",
       "      <th>Mobile network codes</th>\n",
       "      <th>National MNC authority</th>\n",
       "      <th>Remarks</th>\n",
       "    </tr>\n",
       "  </thead>\n",
       "  <tbody>\n",
       "    <tr>\n",
       "      <th>0</th>\n",
       "      <td>289</td>\n",
       "      <td>A Abkhazia</td>\n",
       "      <td>GE-AB</td>\n",
       "      <td>List of mobile network codes in Abkhazia</td>\n",
       "      <td>NaN</td>\n",
       "      <td>MCC is not listed by ITU</td>\n",
       "    </tr>\n",
       "    <tr>\n",
       "      <th>1</th>\n",
       "      <td>412</td>\n",
       "      <td>Afghanistan</td>\n",
       "      <td>AF</td>\n",
       "      <td>List of mobile network codes in Afghanistan</td>\n",
       "      <td>NaN</td>\n",
       "      <td>NaN</td>\n",
       "    </tr>\n",
       "    <tr>\n",
       "      <th>2</th>\n",
       "      <td>276</td>\n",
       "      <td>Albania</td>\n",
       "      <td>AL</td>\n",
       "      <td>List of mobile network codes in Albania</td>\n",
       "      <td>NaN</td>\n",
       "      <td>NaN</td>\n",
       "    </tr>\n",
       "    <tr>\n",
       "      <th>3</th>\n",
       "      <td>603</td>\n",
       "      <td>Algeria</td>\n",
       "      <td>DZ</td>\n",
       "      <td>List of mobile network codes in Algeria</td>\n",
       "      <td>NaN</td>\n",
       "      <td>NaN</td>\n",
       "    </tr>\n",
       "    <tr>\n",
       "      <th>4</th>\n",
       "      <td>544</td>\n",
       "      <td>American Samoa (United States of America)</td>\n",
       "      <td>AS</td>\n",
       "      <td>List of mobile network codes in American Samoa</td>\n",
       "      <td>NaN</td>\n",
       "      <td>NaN</td>\n",
       "    </tr>\n",
       "    <tr>\n",
       "      <th>...</th>\n",
       "      <td>...</td>\n",
       "      <td>...</td>\n",
       "      <td>...</td>\n",
       "      <td>...</td>\n",
       "      <td>...</td>\n",
       "      <td>...</td>\n",
       "    </tr>\n",
       "    <tr>\n",
       "      <th>247</th>\n",
       "      <td>452</td>\n",
       "      <td>Vietnam</td>\n",
       "      <td>VN</td>\n",
       "      <td>List of mobile network codes in the Vietnam</td>\n",
       "      <td>NaN</td>\n",
       "      <td>NaN</td>\n",
       "    </tr>\n",
       "    <tr>\n",
       "      <th>248</th>\n",
       "      <td>543</td>\n",
       "      <td>W Wallis and Futuna</td>\n",
       "      <td>WF</td>\n",
       "      <td>List of mobile network codes in Wallis and Futuna</td>\n",
       "      <td>NaN</td>\n",
       "      <td>NaN</td>\n",
       "    </tr>\n",
       "    <tr>\n",
       "      <th>249</th>\n",
       "      <td>421</td>\n",
       "      <td>Y Yemen</td>\n",
       "      <td>YE</td>\n",
       "      <td>List of mobile network codes in the Yemen</td>\n",
       "      <td>NaN</td>\n",
       "      <td>NaN</td>\n",
       "    </tr>\n",
       "    <tr>\n",
       "      <th>250</th>\n",
       "      <td>645</td>\n",
       "      <td>Z Zambia</td>\n",
       "      <td>ZM</td>\n",
       "      <td>List of mobile network codes in Zambia</td>\n",
       "      <td>NaN</td>\n",
       "      <td>NaN</td>\n",
       "    </tr>\n",
       "    <tr>\n",
       "      <th>251</th>\n",
       "      <td>648</td>\n",
       "      <td>Zimbabwe</td>\n",
       "      <td>ZW</td>\n",
       "      <td>List of mobile network codes in Zimbabwe</td>\n",
       "      <td>NaN</td>\n",
       "      <td>NaN</td>\n",
       "    </tr>\n",
       "  </tbody>\n",
       "</table>\n",
       "<p>252 rows × 6 columns</p>\n",
       "</div>"
      ],
      "text/plain": [
       "     Mobile country code                                    Country ISO 3166  \\\n",
       "0                    289                                 A Abkhazia    GE-AB   \n",
       "1                    412                                Afghanistan       AF   \n",
       "2                    276                                    Albania       AL   \n",
       "3                    603                                    Algeria       DZ   \n",
       "4                    544  American Samoa (United States of America)       AS   \n",
       "..                   ...                                        ...      ...   \n",
       "247                  452                                    Vietnam       VN   \n",
       "248                  543                        W Wallis and Futuna       WF   \n",
       "249                  421                                    Y Yemen       YE   \n",
       "250                  645                                   Z Zambia       ZM   \n",
       "251                  648                                   Zimbabwe       ZW   \n",
       "\n",
       "                                  Mobile network codes National MNC authority  \\\n",
       "0             List of mobile network codes in Abkhazia                    NaN   \n",
       "1          List of mobile network codes in Afghanistan                    NaN   \n",
       "2              List of mobile network codes in Albania                    NaN   \n",
       "3              List of mobile network codes in Algeria                    NaN   \n",
       "4       List of mobile network codes in American Samoa                    NaN   \n",
       "..                                                 ...                    ...   \n",
       "247        List of mobile network codes in the Vietnam                    NaN   \n",
       "248  List of mobile network codes in Wallis and Futuna                    NaN   \n",
       "249          List of mobile network codes in the Yemen                    NaN   \n",
       "250             List of mobile network codes in Zambia                    NaN   \n",
       "251           List of mobile network codes in Zimbabwe                    NaN   \n",
       "\n",
       "                      Remarks  \n",
       "0    MCC is not listed by ITU  \n",
       "1                         NaN  \n",
       "2                         NaN  \n",
       "3                         NaN  \n",
       "4                         NaN  \n",
       "..                        ...  \n",
       "247                       NaN  \n",
       "248                       NaN  \n",
       "249                       NaN  \n",
       "250                       NaN  \n",
       "251                       NaN  \n",
       "\n",
       "[252 rows x 6 columns]"
      ]
     },
     "execution_count": 105,
     "metadata": {},
     "output_type": "execute_result"
    }
   ],
   "source": [
    "dfs[0]"
   ]
  },
  {
   "cell_type": "markdown",
   "metadata": {},
   "source": [
    "# MatplotLib"
   ]
  },
  {
   "cell_type": "code",
   "execution_count": 106,
   "metadata": {},
   "outputs": [],
   "source": [
    "import matplotlib.pyplot as plt\n",
    "\n",
    "%matplotlib inline"
   ]
  },
  {
   "cell_type": "code",
   "execution_count": 107,
   "metadata": {},
   "outputs": [],
   "source": [
    "import numpy as np"
   ]
  },
  {
   "cell_type": "code",
   "execution_count": 108,
   "metadata": {},
   "outputs": [],
   "source": [
    "## Simple Examples\n",
    "\n",
    "x=np.arange(0,10)\n",
    "y=np.arange(11,21)"
   ]
  },
  {
   "cell_type": "code",
   "execution_count": 113,
   "metadata": {},
   "outputs": [
    {
     "data": {
      "image/png": "[encoded data removed]",
      "text/plain": [
       "<Figure size 432x288 with 1 Axes>"
      ]
     },
     "metadata": {
      "needs_background": "light"
     },
     "output_type": "display_data"
    }
   ],
   "source": [
    "plt.scatter(x,y,c='r')\n",
    "plt.xlabel('X Axis')\n",
    "plt.ylabel('Y Axis')\n",
    "plt.title('Graph in 2D')\n",
    "plt.savefig('Test.jpg')"
   ]
  },
  {
   "cell_type": "code",
   "execution_count": 114,
   "metadata": {},
   "outputs": [],
   "source": [
    "y= x*x"
   ]
  },
  {
   "cell_type": "code",
   "execution_count": 115,
   "metadata": {},
   "outputs": [
    {
     "data": {
      "text/plain": [
       "[<matplotlib.lines.Line2D at 0x2b68dc3bfc8>]"
      ]
     },
     "execution_count": 115,
     "metadata": {},
     "output_type": "execute_result"
    },
    {
     "data": {
      "image/png": "[encoded data removed]",
      "text/plain": [
       "<Figure size 432x288 with 1 Axes>"
      ]
     },
     "metadata": {
      "needs_background": "light"
     },
     "output_type": "display_data"
    }
   ],
   "source": [
    "plt.plot(x,y,'ro--')"
   ]
  },
  {
   "cell_type": "code",
   "execution_count": 117,
   "metadata": {},
   "outputs": [
    {
     "data": {
      "image/png": "[encoded data removed]",
      "text/plain": [
       "<Figure size 432x288 with 1 Axes>"
      ]
     },
     "metadata": {
      "needs_background": "light"
     },
     "output_type": "display_data"
    }
   ],
   "source": [
    "plt.plot(x,y,'r*',linestyle='dashed',linewidth=2, markersize=12)\n",
    "plt.xlabel('X axis')\n",
    "plt.ylabel('Y axis')\n",
    "plt.title('2d Diagram')\n",
    "plt.savefig('Test2.jpg')"
   ]
  },
  {
   "cell_type": "code",
   "execution_count": 118,
   "metadata": {},
   "outputs": [
    {
     "data": {
      "text/plain": [
       "[<matplotlib.lines.Line2D at 0x2b68db83848>]"
      ]
     },
     "execution_count": 118,
     "metadata": {},
     "output_type": "execute_result"
    },
    {
     "data": {
      "image/png": "[encoded data removed]",
      "text/plain": [
       "<Figure size 432x288 with 4 Axes>"
      ]
     },
     "metadata": {
      "needs_background": "light"
     },
     "output_type": "display_data"
    }
   ],
   "source": [
    "## Creating Subplots\n",
    "\n",
    "plt.subplot(2,2,1)\n",
    "plt.plot(x,y,'r--')\n",
    "plt.subplot(2,2,2)\n",
    "plt.plot(x,y,'g*--')\n",
    "plt.subplot(2,2,3)\n",
    "plt.plot(x,y,'bo')\n",
    "plt.subplot(2,2,4)\n",
    "plt.plot(x,y,'go')"
   ]
  },
  {
   "cell_type": "code",
   "execution_count": 119,
   "metadata": {},
   "outputs": [
    {
     "data": {
      "text/plain": [
       "3.141592653589793"
      ]
     },
     "execution_count": 119,
     "metadata": {},
     "output_type": "execute_result"
    }
   ],
   "source": [
    "np.pi"
   ]
  },
  {
   "cell_type": "code",
   "execution_count": 120,
   "metadata": {},
   "outputs": [
    {
     "data": {
      "image/png": "[encoded data removed]",
      "text/plain": [
       "<Figure size 432x288 with 2 Axes>"
      ]
     },
     "metadata": {
      "needs_background": "light"
     },
     "output_type": "display_data"
    }
   ],
   "source": [
    "#Subplot()\n",
    "# Compute the x and y coordinates for points on sine and cosine curves \n",
    "x = np.arange(0, 5 * np.pi, 0.1) \n",
    "y_sin = np.sin(x) \n",
    "y_cos = np.cos(x)  \n",
    "   \n",
    "# Set up a subplot grid that has height 2 and width 1, \n",
    "# and set the first such subplot as active. \n",
    "plt.subplot(2, 1, 1)\n",
    "   \n",
    "# Make the first plot \n",
    "plt.plot(x, y_sin,'r--') \n",
    "plt.title('Sine')  \n",
    "   \n",
    "# Set the second subplot as active, and make the second plot. \n",
    "plt.subplot(2, 1, 2) \n",
    "plt.plot(x, y_cos,'g--') \n",
    "plt.title('Cosine')  \n",
    "   \n",
    "# Show the figure. \n",
    "plt.show()"
   ]
  },
  {
   "cell_type": "code",
   "execution_count": null,
   "metadata": {},
   "outputs": [],
   "source": [
    "a = np."
   ]
  },
  {
   "cell_type": "code",
   "execution_count": null,
   "metadata": {},
   "outputs": [],
   "source": []
  },
  {
   "cell_type": "code",
   "execution_count": null,
   "metadata": {},
   "outputs": [],
   "source": []
  },
  {
   "cell_type": "code",
   "execution_count": null,
   "metadata": {},
   "outputs": [],
   "source": []
  },
  {
   "cell_type": "code",
   "execution_count": null,
   "metadata": {},
   "outputs": [],
   "source": []
  },
  {
   "cell_type": "code",
   "execution_count": null,
   "metadata": {},
   "outputs": [],
   "source": []
  },
  {
   "cell_type": "code",
   "execution_count": null,
   "metadata": {},
   "outputs": [],
   "source": []
  }
 ],
 "metadata": {
  "kernelspec": {
   "display_name": "Python 3",
   "language": "python",
   "name": "python3"
  },
  "language_info": {
   "codemirror_mode": {
    "name": "ipython",
    "version": 3
   },
   "file_extension": ".py",
   "mimetype": "text/x-python",
   "name": "python",
   "nbconvert_exporter": "python",
   "pygments_lexer": "ipython3",
   "version": "3.7.7"
  }
 },
 "nbformat": 4,
 "nbformat_minor": 4
}
